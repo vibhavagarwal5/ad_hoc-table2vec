{
 "cells": [
  {
   "cell_type": "code",
   "execution_count": 8,
   "metadata": {},
   "outputs": [],
   "source": [
    "import numpy as np\n",
    "import pandas as pd\n",
    "import os\n",
    "import json\n",
    "import matplotlib.pyplot as plt\n",
    "%matplotlib inline"
   ]
  },
  {
   "cell_type": "code",
   "execution_count": 2,
   "metadata": {},
   "outputs": [],
   "source": [
    "def read_table(filename, table_name):\n",
    "    try:\n",
    "        inp = json.load(open(filename))[table_name]\n",
    "    except Exception as e:\n",
    "        print(filename)\n",
    "        filename_split = filename.split('-')\n",
    "        filename = filename_split[0] + \"-\" + \\\n",
    "            str(int(filename_split[1].split('.')[0])-1) + '.json'\n",
    "        print(filename)\n",
    "        inp = json.load(open(filename))[table_name]\n",
    "    return inp"
   ]
  },
  {
   "cell_type": "code",
   "execution_count": 3,
   "metadata": {},
   "outputs": [],
   "source": [
    "def get_table_path(table_id):\n",
    "    return path + 're_tables-' + table_id.split('-')[1] + '.json'"
   ]
  },
  {
   "cell_type": "code",
   "execution_count": 4,
   "metadata": {},
   "outputs": [],
   "source": [
    "path = '/USERS/vibhavagarwal/Downloads/tables_redi2_1/'\n",
    "# all_json = os.listdir(path)\n",
    "\n",
    "baseline_f = pd.read_csv('../www2018-table/feature/features.csv')\n",
    "all_json =  list(baseline_f['table_id'])"
   ]
  },
  {
   "cell_type": "code",
   "execution_count": 5,
   "metadata": {},
   "outputs": [],
   "source": [
    "# min_col = 5000\n",
    "# min_row = 5000\n",
    "# all_tables = [[],[]]\n",
    "# for js in all_json:\n",
    "#     with open(os.path.join(path, js), 'r') as f:\n",
    "#         j = json.load(f)\n",
    "#         for i in j.keys():\n",
    "\n",
    "#             # max_col = max(max_col,j[i]['numCols'])\n",
    "#             # max_row = max(max_row,j[i]['numDataRows'])\n",
    "\n",
    "#             all_tables[0].append(j[i]['numDataRows'])\n",
    "#             all_tables[1].append(j[i]['numCols'])\n",
    "# all_tables[0].sort()\n",
    "# all_tables[1].sort()"
   ]
  },
  {
   "cell_type": "code",
   "execution_count": 7,
   "metadata": {},
   "outputs": [
    {
     "name": "stdout",
     "output_type": "stream",
     "text": [
      "/USERS/vibhavagarwal/Downloads/tables_redi2_1/re_tables-1579.json\n",
      "/USERS/vibhavagarwal/Downloads/tables_redi2_1/re_tables-1578.json\n",
      "/USERS/vibhavagarwal/Downloads/tables_redi2_1/re_tables-1211.json\n",
      "/USERS/vibhavagarwal/Downloads/tables_redi2_1/re_tables-1210.json\n",
      "/USERS/vibhavagarwal/Downloads/tables_redi2_1/re_tables-1411.json\n",
      "/USERS/vibhavagarwal/Downloads/tables_redi2_1/re_tables-1410.json\n"
     ]
    }
   ],
   "source": [
    "col_n = 0\n",
    "row_n = 0\n",
    "all_tables = [[],[]]\n",
    "for js in all_json:\n",
    "    j = read_table(get_table_path(js),js)\n",
    "    # if j['numCols'] < 3:\n",
    "    #     col_n+=1\n",
    "    # if j['numDataRows'] < 3:\n",
    "    #     row_n+=1\n",
    "    all_tables[0].append(j['numDataRows'])\n",
    "    all_tables[1].append(j['numCols'])\n",
    "# all_tables[0].sort()\n",
    "# all_tables[1].sort()"
   ]
  },
  {
   "cell_type": "code",
   "execution_count": 23,
   "metadata": {},
   "outputs": [],
   "source": [
    "all_tables[0].sort()\n",
    "all_tables[1].sort()"
   ]
  },
  {
   "cell_type": "code",
   "execution_count": 24,
   "metadata": {},
   "outputs": [
    {
     "data": {
      "image/png": "[encoded data removed]",
      "text/plain": [
       "<Figure size 432x288 with 1 Axes>"
      ]
     },
     "metadata": {
      "needs_background": "light"
     },
     "output_type": "display_data"
    }
   ],
   "source": [
    "# print(row_n,col_n)\n",
    "plt.plot(all_tables[0])\n",
    "plt.show()"
   ]
  },
  {
   "cell_type": "code",
   "execution_count": null,
   "metadata": {},
   "outputs": [],
   "source": []
  }
 ],
 "metadata": {
  "kernelspec": {
   "display_name": "Python [conda env:dl_xi_tf2] *",
   "language": "python",
   "name": "conda-env-dl_xi_tf2-py"
  },
  "language_info": {
   "codemirror_mode": {
    "name": "ipython",
    "version": 3
   },
   "file_extension": ".py",
   "mimetype": "text/x-python",
   "name": "python",
   "nbconvert_exporter": "python",
   "pygments_lexer": "ipython3",
   "version": "3.7.3"
  }
 },
 "nbformat": 4,
 "nbformat_minor": 2
}
