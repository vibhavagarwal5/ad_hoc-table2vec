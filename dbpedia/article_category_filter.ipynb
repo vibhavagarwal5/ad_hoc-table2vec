{
 "cells": [
  {
   "cell_type": "code",
   "execution_count": 1,
   "metadata": {},
   "outputs": [],
   "source": [
    "import pandas as pd\n",
    "import numpy as np\n",
    "import multiprocessing\n",
    "from pandarallel import pandarallel"
   ]
  },
  {
   "cell_type": "code",
   "execution_count": 17,
   "metadata": {},
   "outputs": [
    {
     "name": "stdout",
     "output_type": "stream",
     "text": [
      "WARNING: Progress bar is an experimental feature. This can lead to a considerable performance loss.\n"
     ]
    },
    {
     "data": {
      "application/vnd.jupyter.widget-view+json": {
       "model_id": "cbe78c3d286e4029869a79e6c2d8d026",
       "version_major": 2,
       "version_minor": 0
      },
      "text/plain": [
       "HBox(children=(IntProgress(value=1, bar_style='info', max=1), HTML(value='')))"
      ]
     },
     "metadata": {},
     "output_type": "display_data"
    },
    {
     "name": "stdout",
     "output_type": "stream",
     "text": [
      "\n",
      "New pandarallel memory created - Size: 3500 MB\n",
      "Pandarallel will run on 15 workers\n"
     ]
    }
   ],
   "source": [
    "pandarallel.initialize(progress_bar=True,nb_workers=15,shm_size_mb=3500)"
   ]
  },
  {
   "cell_type": "code",
   "execution_count": 3,
   "metadata": {},
   "outputs": [],
   "source": [
    "pd.set_option('display.max_columns', 500)\n",
    "pd.set_option('display.width', 1000)"
   ]
  },
  {
   "cell_type": "code",
   "execution_count": 4,
   "metadata": {},
   "outputs": [],
   "source": [
    "def convert2txt(path):\n",
    "    d = []\n",
    "    with open(path) as file:\n",
    "        for i,line in enumerate(file):\n",
    "                d.append(line)\n",
    "    return d"
   ]
  },
  {
   "cell_type": "code",
   "execution_count": 5,
   "metadata": {},
   "outputs": [],
   "source": [
    "a = convert2txt('./article_categories_en.ttl')"
   ]
  },
  {
   "cell_type": "code",
   "execution_count": 7,
   "metadata": {},
   "outputs": [],
   "source": [
    "with open('./article_categories_en.txt', 'w') as f:\n",
    "    for item in a:\n",
    "        f.write(\"%s\" % item)"
   ]
  },
  {
   "cell_type": "code",
   "execution_count": 8,
   "metadata": {},
   "outputs": [],
   "source": [
    "d = pd.read_csv('./article_categories_en.txt', header=None, delimiter=\"\\t\")"
   ]
  },
  {
   "cell_type": "code",
   "execution_count": 9,
   "metadata": {},
   "outputs": [
    {
     "data": {
      "text/html": [
       "<div>\n",
       "<style scoped>\n",
       "    .dataframe tbody tr th:only-of-type {\n",
       "        vertical-align: middle;\n",
       "    }\n",
       "\n",
       "    .dataframe tbody tr th {\n",
       "        vertical-align: top;\n",
       "    }\n",
       "\n",
       "    .dataframe thead th {\n",
       "        text-align: right;\n",
       "    }\n",
       "</style>\n",
       "<table border=\"1\" class=\"dataframe\">\n",
       "  <thead>\n",
       "    <tr style=\"text-align: right;\">\n",
       "      <th></th>\n",
       "      <th>0</th>\n",
       "    </tr>\n",
       "  </thead>\n",
       "  <tbody>\n",
       "    <tr>\n",
       "      <th>0</th>\n",
       "      <td># started 2015-11-06T08:48:44Z</td>\n",
       "    </tr>\n",
       "    <tr>\n",
       "      <th>1</th>\n",
       "      <td>&lt;http://dbpedia.org/resource/Albedo&gt; &lt;http://p...</td>\n",
       "    </tr>\n",
       "    <tr>\n",
       "      <th>2</th>\n",
       "      <td>&lt;http://dbpedia.org/resource/Albedo&gt; &lt;http://p...</td>\n",
       "    </tr>\n",
       "    <tr>\n",
       "      <th>3</th>\n",
       "      <td>&lt;http://dbpedia.org/resource/Albedo&gt; &lt;http://p...</td>\n",
       "    </tr>\n",
       "    <tr>\n",
       "      <th>4</th>\n",
       "      <td>&lt;http://dbpedia.org/resource/Albedo&gt; &lt;http://p...</td>\n",
       "    </tr>\n",
       "  </tbody>\n",
       "</table>\n",
       "</div>"
      ],
      "text/plain": [
       "                                                   0\n",
       "0                     # started 2015-11-06T08:48:44Z\n",
       "1  <http://dbpedia.org/resource/Albedo> <http://p...\n",
       "2  <http://dbpedia.org/resource/Albedo> <http://p...\n",
       "3  <http://dbpedia.org/resource/Albedo> <http://p...\n",
       "4  <http://dbpedia.org/resource/Albedo> <http://p..."
      ]
     },
     "execution_count": 9,
     "metadata": {},
     "output_type": "execute_result"
    }
   ],
   "source": [
    "d.head()"
   ]
  },
  {
   "cell_type": "code",
   "execution_count": 36,
   "metadata": {},
   "outputs": [],
   "source": [
    "d_ = d[0].str.split(' ', expand=True)"
   ]
  },
  {
   "cell_type": "code",
   "execution_count": 41,
   "metadata": {},
   "outputs": [],
   "source": [
    "d1 = d_.iloc[1:-1]\n",
    "d1 = pd.DataFrame(d1)\n",
    "d1.drop(columns=[1],inplace=True)\n",
    "d2 = d1.iloc[:,:2]"
   ]
  },
  {
   "cell_type": "code",
   "execution_count": 50,
   "metadata": {},
   "outputs": [
    {
     "data": {
      "text/html": [
       "<div>\n",
       "<style scoped>\n",
       "    .dataframe tbody tr th:only-of-type {\n",
       "        vertical-align: middle;\n",
       "    }\n",
       "\n",
       "    .dataframe tbody tr th {\n",
       "        vertical-align: top;\n",
       "    }\n",
       "\n",
       "    .dataframe thead th {\n",
       "        text-align: right;\n",
       "    }\n",
       "</style>\n",
       "<table border=\"1\" class=\"dataframe\">\n",
       "  <thead>\n",
       "    <tr style=\"text-align: right;\">\n",
       "      <th></th>\n",
       "      <th>0</th>\n",
       "      <th>2</th>\n",
       "      <th>3</th>\n",
       "      <th>4</th>\n",
       "      <th>5</th>\n",
       "      <th>6</th>\n",
       "      <th>7</th>\n",
       "      <th>8</th>\n",
       "      <th>9</th>\n",
       "      <th>10</th>\n",
       "      <th>11</th>\n",
       "      <th>12</th>\n",
       "      <th>13</th>\n",
       "    </tr>\n",
       "  </thead>\n",
       "  <tbody>\n",
       "    <tr>\n",
       "      <th>1</th>\n",
       "      <td>&lt;http://dbpedia.org/resource/Albedo&gt;</td>\n",
       "      <td>&lt;http://dbpedia.org/resource/Category:Climate_...</td>\n",
       "      <td>.</td>\n",
       "      <td>None</td>\n",
       "      <td>None</td>\n",
       "      <td>None</td>\n",
       "      <td>None</td>\n",
       "      <td>None</td>\n",
       "      <td>None</td>\n",
       "      <td>None</td>\n",
       "      <td>None</td>\n",
       "      <td>None</td>\n",
       "      <td>None</td>\n",
       "    </tr>\n",
       "    <tr>\n",
       "      <th>2</th>\n",
       "      <td>&lt;http://dbpedia.org/resource/Albedo&gt;</td>\n",
       "      <td>&lt;http://dbpedia.org/resource/Category:Climatol...</td>\n",
       "      <td>.</td>\n",
       "      <td>None</td>\n",
       "      <td>None</td>\n",
       "      <td>None</td>\n",
       "      <td>None</td>\n",
       "      <td>None</td>\n",
       "      <td>None</td>\n",
       "      <td>None</td>\n",
       "      <td>None</td>\n",
       "      <td>None</td>\n",
       "      <td>None</td>\n",
       "    </tr>\n",
       "    <tr>\n",
       "      <th>3</th>\n",
       "      <td>&lt;http://dbpedia.org/resource/Albedo&gt;</td>\n",
       "      <td>&lt;http://dbpedia.org/resource/Category:Electrom...</td>\n",
       "      <td>.</td>\n",
       "      <td>None</td>\n",
       "      <td>None</td>\n",
       "      <td>None</td>\n",
       "      <td>None</td>\n",
       "      <td>None</td>\n",
       "      <td>None</td>\n",
       "      <td>None</td>\n",
       "      <td>None</td>\n",
       "      <td>None</td>\n",
       "      <td>None</td>\n",
       "    </tr>\n",
       "    <tr>\n",
       "      <th>4</th>\n",
       "      <td>&lt;http://dbpedia.org/resource/Albedo&gt;</td>\n",
       "      <td>&lt;http://dbpedia.org/resource/Category:Radiometry&gt;</td>\n",
       "      <td>.</td>\n",
       "      <td>None</td>\n",
       "      <td>None</td>\n",
       "      <td>None</td>\n",
       "      <td>None</td>\n",
       "      <td>None</td>\n",
       "      <td>None</td>\n",
       "      <td>None</td>\n",
       "      <td>None</td>\n",
       "      <td>None</td>\n",
       "      <td>None</td>\n",
       "    </tr>\n",
       "    <tr>\n",
       "      <th>5</th>\n",
       "      <td>&lt;http://dbpedia.org/resource/Albedo&gt;</td>\n",
       "      <td>&lt;http://dbpedia.org/resource/Category:Scatteri...</td>\n",
       "      <td>.</td>\n",
       "      <td>None</td>\n",
       "      <td>None</td>\n",
       "      <td>None</td>\n",
       "      <td>None</td>\n",
       "      <td>None</td>\n",
       "      <td>None</td>\n",
       "      <td>None</td>\n",
       "      <td>None</td>\n",
       "      <td>None</td>\n",
       "      <td>None</td>\n",
       "    </tr>\n",
       "  </tbody>\n",
       "</table>\n",
       "</div>"
      ],
      "text/plain": [
       "                                     0                                                  2  3     4     5     6     7     8     9     10    11    12    13\n",
       "1  <http://dbpedia.org/resource/Albedo>  <http://dbpedia.org/resource/Category:Climate_...  .  None  None  None  None  None  None  None  None  None  None\n",
       "2  <http://dbpedia.org/resource/Albedo>  <http://dbpedia.org/resource/Category:Climatol...  .  None  None  None  None  None  None  None  None  None  None\n",
       "3  <http://dbpedia.org/resource/Albedo>  <http://dbpedia.org/resource/Category:Electrom...  .  None  None  None  None  None  None  None  None  None  None\n",
       "4  <http://dbpedia.org/resource/Albedo>  <http://dbpedia.org/resource/Category:Radiometry>  .  None  None  None  None  None  None  None  None  None  None\n",
       "5  <http://dbpedia.org/resource/Albedo>  <http://dbpedia.org/resource/Category:Scatteri...  .  None  None  None  None  None  None  None  None  None  None"
      ]
     },
     "execution_count": 50,
     "metadata": {},
     "output_type": "execute_result"
    }
   ],
   "source": [
    "d1.head()"
   ]
  },
  {
   "cell_type": "code",
   "execution_count": 57,
   "metadata": {},
   "outputs": [
    {
     "data": {
      "text/html": [
       "<div>\n",
       "<style scoped>\n",
       "    .dataframe tbody tr th:only-of-type {\n",
       "        vertical-align: middle;\n",
       "    }\n",
       "\n",
       "    .dataframe tbody tr th {\n",
       "        vertical-align: top;\n",
       "    }\n",
       "\n",
       "    .dataframe thead th {\n",
       "        text-align: right;\n",
       "    }\n",
       "</style>\n",
       "<table border=\"1\" class=\"dataframe\">\n",
       "  <thead>\n",
       "    <tr style=\"text-align: right;\">\n",
       "      <th></th>\n",
       "      <th>0</th>\n",
       "      <th>2</th>\n",
       "      <th>0_en</th>\n",
       "      <th>2_cat</th>\n",
       "    </tr>\n",
       "  </thead>\n",
       "  <tbody>\n",
       "    <tr>\n",
       "      <th>1</th>\n",
       "      <td>&lt;http://dbpedia.org/resource/Albedo&gt;</td>\n",
       "      <td>&lt;http://dbpedia.org/resource/Category:Climate_...</td>\n",
       "      <td>Albedo</td>\n",
       "      <td>Climate_forcing</td>\n",
       "    </tr>\n",
       "    <tr>\n",
       "      <th>2</th>\n",
       "      <td>&lt;http://dbpedia.org/resource/Albedo&gt;</td>\n",
       "      <td>&lt;http://dbpedia.org/resource/Category:Climatol...</td>\n",
       "      <td>Albedo</td>\n",
       "      <td>Climatology</td>\n",
       "    </tr>\n",
       "    <tr>\n",
       "      <th>3</th>\n",
       "      <td>&lt;http://dbpedia.org/resource/Albedo&gt;</td>\n",
       "      <td>&lt;http://dbpedia.org/resource/Category:Electrom...</td>\n",
       "      <td>Albedo</td>\n",
       "      <td>Electromagnetic_radiation</td>\n",
       "    </tr>\n",
       "    <tr>\n",
       "      <th>4</th>\n",
       "      <td>&lt;http://dbpedia.org/resource/Albedo&gt;</td>\n",
       "      <td>&lt;http://dbpedia.org/resource/Category:Radiometry&gt;</td>\n",
       "      <td>Albedo</td>\n",
       "      <td>Radiometry</td>\n",
       "    </tr>\n",
       "    <tr>\n",
       "      <th>5</th>\n",
       "      <td>&lt;http://dbpedia.org/resource/Albedo&gt;</td>\n",
       "      <td>&lt;http://dbpedia.org/resource/Category:Scatteri...</td>\n",
       "      <td>Albedo</td>\n",
       "      <td>Scattering,_absorption_and_radiative_transfer_...</td>\n",
       "    </tr>\n",
       "    <tr>\n",
       "      <th>6</th>\n",
       "      <td>&lt;http://dbpedia.org/resource/Albedo&gt;</td>\n",
       "      <td>&lt;http://dbpedia.org/resource/Category:Radiation&gt;</td>\n",
       "      <td>Albedo</td>\n",
       "      <td>Radiation</td>\n",
       "    </tr>\n",
       "    <tr>\n",
       "      <th>7</th>\n",
       "      <td>&lt;http://dbpedia.org/resource/Anarchism&gt;</td>\n",
       "      <td>&lt;http://dbpedia.org/resource/Category:Anarchism&gt;</td>\n",
       "      <td>Anarchism</td>\n",
       "      <td>Anarchism</td>\n",
       "    </tr>\n",
       "    <tr>\n",
       "      <th>8</th>\n",
       "      <td>&lt;http://dbpedia.org/resource/Anarchism&gt;</td>\n",
       "      <td>&lt;http://dbpedia.org/resource/Category:Politica...</td>\n",
       "      <td>Anarchism</td>\n",
       "      <td>Political_culture</td>\n",
       "    </tr>\n",
       "    <tr>\n",
       "      <th>9</th>\n",
       "      <td>&lt;http://dbpedia.org/resource/Anarchism&gt;</td>\n",
       "      <td>&lt;http://dbpedia.org/resource/Category:Politica...</td>\n",
       "      <td>Anarchism</td>\n",
       "      <td>Political_ideologies</td>\n",
       "    </tr>\n",
       "    <tr>\n",
       "      <th>10</th>\n",
       "      <td>&lt;http://dbpedia.org/resource/Anarchism&gt;</td>\n",
       "      <td>&lt;http://dbpedia.org/resource/Category:Social_t...</td>\n",
       "      <td>Anarchism</td>\n",
       "      <td>Social_theories</td>\n",
       "    </tr>\n",
       "  </tbody>\n",
       "</table>\n",
       "</div>"
      ],
      "text/plain": [
       "                                          0                                                  2       0_en                                              2_cat\n",
       "1      <http://dbpedia.org/resource/Albedo>  <http://dbpedia.org/resource/Category:Climate_...     Albedo                                    Climate_forcing\n",
       "2      <http://dbpedia.org/resource/Albedo>  <http://dbpedia.org/resource/Category:Climatol...     Albedo                                        Climatology\n",
       "3      <http://dbpedia.org/resource/Albedo>  <http://dbpedia.org/resource/Category:Electrom...     Albedo                          Electromagnetic_radiation\n",
       "4      <http://dbpedia.org/resource/Albedo>  <http://dbpedia.org/resource/Category:Radiometry>     Albedo                                         Radiometry\n",
       "5      <http://dbpedia.org/resource/Albedo>  <http://dbpedia.org/resource/Category:Scatteri...     Albedo  Scattering,_absorption_and_radiative_transfer_...\n",
       "6      <http://dbpedia.org/resource/Albedo>   <http://dbpedia.org/resource/Category:Radiation>     Albedo                                          Radiation\n",
       "7   <http://dbpedia.org/resource/Anarchism>   <http://dbpedia.org/resource/Category:Anarchism>  Anarchism                                          Anarchism\n",
       "8   <http://dbpedia.org/resource/Anarchism>  <http://dbpedia.org/resource/Category:Politica...  Anarchism                                  Political_culture\n",
       "9   <http://dbpedia.org/resource/Anarchism>  <http://dbpedia.org/resource/Category:Politica...  Anarchism                               Political_ideologies\n",
       "10  <http://dbpedia.org/resource/Anarchism>  <http://dbpedia.org/resource/Category:Social_t...  Anarchism                                    Social_theories"
      ]
     },
     "execution_count": 57,
     "metadata": {},
     "output_type": "execute_result"
    }
   ],
   "source": [
    "d2.head(10)"
   ]
  },
  {
   "cell_type": "code",
   "execution_count": 53,
   "metadata": {
    "collapsed": true,
    "jupyter": {
     "outputs_hidden": true
    }
   },
   "outputs": [
    {
     "name": "stderr",
     "output_type": "stream",
     "text": [
      "/home/vibhav/bar/virtualenv/lib/python3.5/site-packages/ipykernel_launcher.py:1: SettingWithCopyWarning: \n",
      "A value is trying to be set on a copy of a slice from a DataFrame.\n",
      "Try using .loc[row_indexer,col_indexer] = value instead\n",
      "\n",
      "See the caveats in the documentation: http://pandas.pydata.org/pandas-docs/stable/indexing.html#indexing-view-versus-copy\n",
      "  \"\"\"Entry point for launching an IPython kernel.\n"
     ]
    }
   ],
   "source": [
    "d2['0_en'] = d2[0].apply(lambda x: x.split(\"/resource/\")[-1][:-1])"
   ]
  },
  {
   "cell_type": "code",
   "execution_count": 56,
   "metadata": {
    "collapsed": true,
    "jupyter": {
     "outputs_hidden": true
    }
   },
   "outputs": [
    {
     "name": "stderr",
     "output_type": "stream",
     "text": [
      "/home/vibhav/bar/virtualenv/lib/python3.5/site-packages/ipykernel_launcher.py:1: SettingWithCopyWarning: \n",
      "A value is trying to be set on a copy of a slice from a DataFrame.\n",
      "Try using .loc[row_indexer,col_indexer] = value instead\n",
      "\n",
      "See the caveats in the documentation: http://pandas.pydata.org/pandas-docs/stable/indexing.html#indexing-view-versus-copy\n",
      "  \"\"\"Entry point for launching an IPython kernel.\n"
     ]
    }
   ],
   "source": [
    "d2['2_cat'] = d2[2].apply(lambda x: x.split(\"Category:\")[-1][:-1])"
   ]
  },
  {
   "cell_type": "code",
   "execution_count": 62,
   "metadata": {},
   "outputs": [],
   "source": [
    "d2.to_csv('./list_article_categories.csv',index=None)"
   ]
  },
  {
   "cell_type": "code",
   "execution_count": 71,
   "metadata": {},
   "outputs": [],
   "source": [
    "d3 = d2.loc[:,['0_en','2_cat']]"
   ]
  },
  {
   "cell_type": "code",
   "execution_count": 75,
   "metadata": {},
   "outputs": [],
   "source": [
    "d4 = d3.groupby('0_en')"
   ]
  },
  {
   "cell_type": "code",
   "execution_count": 80,
   "metadata": {},
   "outputs": [
    {
     "data": {
      "text/html": [
       "<div>\n",
       "<style scoped>\n",
       "    .dataframe tbody tr th:only-of-type {\n",
       "        vertical-align: middle;\n",
       "    }\n",
       "\n",
       "    .dataframe tbody tr th {\n",
       "        vertical-align: top;\n",
       "    }\n",
       "\n",
       "    .dataframe thead th {\n",
       "        text-align: right;\n",
       "    }\n",
       "</style>\n",
       "<table border=\"1\" class=\"dataframe\">\n",
       "  <thead>\n",
       "    <tr style=\"text-align: right;\">\n",
       "      <th></th>\n",
       "      <th>2_cat</th>\n",
       "    </tr>\n",
       "  </thead>\n",
       "  <tbody>\n",
       "    <tr>\n",
       "      <th>1</th>\n",
       "      <td>Climate_forcing</td>\n",
       "    </tr>\n",
       "    <tr>\n",
       "      <th>2</th>\n",
       "      <td>Climatology</td>\n",
       "    </tr>\n",
       "    <tr>\n",
       "      <th>3</th>\n",
       "      <td>Electromagnetic_radiation</td>\n",
       "    </tr>\n",
       "    <tr>\n",
       "      <th>4</th>\n",
       "      <td>Radiometry</td>\n",
       "    </tr>\n",
       "    <tr>\n",
       "      <th>5</th>\n",
       "      <td>Scattering,_absorption_and_radiative_transfer_...</td>\n",
       "    </tr>\n",
       "    <tr>\n",
       "      <th>6</th>\n",
       "      <td>Radiation</td>\n",
       "    </tr>\n",
       "  </tbody>\n",
       "</table>\n",
       "</div>"
      ],
      "text/plain": [
       "                                               2_cat\n",
       "1                                    Climate_forcing\n",
       "2                                        Climatology\n",
       "3                          Electromagnetic_radiation\n",
       "4                                         Radiometry\n",
       "5  Scattering,_absorption_and_radiative_transfer_...\n",
       "6                                          Radiation"
      ]
     },
     "execution_count": 80,
     "metadata": {},
     "output_type": "execute_result"
    }
   ],
   "source": [
    "d4.get_group('Albedo')"
   ]
  },
  {
   "cell_type": "code",
   "execution_count": 85,
   "metadata": {},
   "outputs": [],
   "source": [
    "d5 = d4['2_cat'].apply('_/:/_'.join)"
   ]
  },
  {
   "cell_type": "code",
   "execution_count": 102,
   "metadata": {},
   "outputs": [
    {
     "data": {
      "text/plain": [
       "0_en\n",
       "                        <http://purl.org/dc/terms/subject_/:/_<http://...\n",
       "!!!                     Rock_music_groups_from_California_/:/_Musical_...\n",
       "!!!_(album)             !!!_albums_/:/_2001_debut_albums_/:/_Gold_Stan...\n",
       "!!Destroy-Oh-Boy!!      1993_debut_albums_/:/_New_Bomb_Turks_albums_/:...\n",
       "!!M                                             Instant_messaging_clients\n",
       "!Action_Pact!           Musical_groups_established_in_1981_/:/_Musical...\n",
       "!Arriba!_La_Pachanga                    1961_albums_/:/_Latin_jazz_albums\n",
       "!Hero                                                         Rock_operas\n",
       "!Hero_(album)           2003_albums_/:/_Rock_operas_/:/_Contemporary_C...\n",
       "!Kung_language          Kx'a_languages_/:/_Languages_of_Angola_/:/_Lan...\n",
       "Name: 2_cat, dtype: object"
      ]
     },
     "execution_count": 102,
     "metadata": {},
     "output_type": "execute_result"
    }
   ],
   "source": [
    "d5.head(10)"
   ]
  },
  {
   "cell_type": "code",
   "execution_count": 121,
   "metadata": {},
   "outputs": [],
   "source": [
    "d6 = pd.DataFrame(d5.iloc[1:])"
   ]
  },
  {
   "cell_type": "code",
   "execution_count": 122,
   "metadata": {},
   "outputs": [
    {
     "data": {
      "text/html": [
       "<div>\n",
       "<style scoped>\n",
       "    .dataframe tbody tr th:only-of-type {\n",
       "        vertical-align: middle;\n",
       "    }\n",
       "\n",
       "    .dataframe tbody tr th {\n",
       "        vertical-align: top;\n",
       "    }\n",
       "\n",
       "    .dataframe thead th {\n",
       "        text-align: right;\n",
       "    }\n",
       "</style>\n",
       "<table border=\"1\" class=\"dataframe\">\n",
       "  <thead>\n",
       "    <tr style=\"text-align: right;\">\n",
       "      <th></th>\n",
       "      <th>2_cat</th>\n",
       "    </tr>\n",
       "    <tr>\n",
       "      <th>0_en</th>\n",
       "      <th></th>\n",
       "    </tr>\n",
       "  </thead>\n",
       "  <tbody>\n",
       "    <tr>\n",
       "      <th>!!!</th>\n",
       "      <td>Rock_music_groups_from_California_/:/_Musical_...</td>\n",
       "    </tr>\n",
       "    <tr>\n",
       "      <th>!!!_(album)</th>\n",
       "      <td>!!!_albums_/:/_2001_debut_albums_/:/_Gold_Stan...</td>\n",
       "    </tr>\n",
       "    <tr>\n",
       "      <th>!!Destroy-Oh-Boy!!</th>\n",
       "      <td>1993_debut_albums_/:/_New_Bomb_Turks_albums_/:...</td>\n",
       "    </tr>\n",
       "    <tr>\n",
       "      <th>!!M</th>\n",
       "      <td>Instant_messaging_clients</td>\n",
       "    </tr>\n",
       "    <tr>\n",
       "      <th>!Action_Pact!</th>\n",
       "      <td>Musical_groups_established_in_1981_/:/_Musical...</td>\n",
       "    </tr>\n",
       "  </tbody>\n",
       "</table>\n",
       "</div>"
      ],
      "text/plain": [
       "                                                                2_cat\n",
       "0_en                                                                 \n",
       "!!!                 Rock_music_groups_from_California_/:/_Musical_...\n",
       "!!!_(album)         !!!_albums_/:/_2001_debut_albums_/:/_Gold_Stan...\n",
       "!!Destroy-Oh-Boy!!  1993_debut_albums_/:/_New_Bomb_Turks_albums_/:...\n",
       "!!M                                         Instant_messaging_clients\n",
       "!Action_Pact!       Musical_groups_established_in_1981_/:/_Musical..."
      ]
     },
     "execution_count": 122,
     "metadata": {},
     "output_type": "execute_result"
    }
   ],
   "source": [
    "d6.head()"
   ]
  },
  {
   "cell_type": "code",
   "execution_count": 123,
   "metadata": {},
   "outputs": [],
   "source": [
    "d6.to_csv('./list_article_categories_grouped.csv')"
   ]
  },
  {
   "cell_type": "code",
   "execution_count": 125,
   "metadata": {},
   "outputs": [],
   "source": [
    "x1 = pd.read_csv('./list_article_categories_grouped.csv')"
   ]
  },
  {
   "cell_type": "code",
   "execution_count": 126,
   "metadata": {},
   "outputs": [
    {
     "data": {
      "text/plain": [
       "Index(['0_en', '2_cat'], dtype='object')"
      ]
     },
     "execution_count": 126,
     "metadata": {},
     "output_type": "execute_result"
    }
   ],
   "source": [
    "x1.columns"
   ]
  },
  {
   "cell_type": "code",
   "execution_count": null,
   "metadata": {},
   "outputs": [],
   "source": []
  }
 ],
 "metadata": {
  "kernelspec": {
   "display_name": "Python 3",
   "language": "python",
   "name": "python3"
  },
  "language_info": {
   "codemirror_mode": {
    "name": "ipython",
    "version": 3
   },
   "file_extension": ".py",
   "mimetype": "text/x-python",
   "name": "python",
   "nbconvert_exporter": "python",
   "pygments_lexer": "ipython3",
   "version": "3.5.2"
  }
 },
 "nbformat": 4,
 "nbformat_minor": 4
}
