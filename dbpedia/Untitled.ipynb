{
 "cells": [
  {
   "cell_type": "code",
   "execution_count": 1,
   "metadata": {},
   "outputs": [],
   "source": [
    "import pandas as pd\n",
    "import numpy as np\n",
    "import multiprocessing\n",
    "from pandarallel import pandarallel\n",
    "from sklearn.preprocessing import OneHotEncoder\n",
    "import pickle\n",
    "import time"
   ]
  },
  {
   "cell_type": "code",
   "execution_count": 2,
   "metadata": {},
   "outputs": [],
   "source": [
    "# pandarallel.initialize(progress_bar=True,nb_workers=15,shm_size_mb=3000)"
   ]
  },
  {
   "cell_type": "code",
   "execution_count": 3,
   "metadata": {},
   "outputs": [],
   "source": [
    "pd.set_option('display.max_columns', 500)\n",
    "pd.set_option('display.width', 1000)"
   ]
  },
  {
   "cell_type": "code",
   "execution_count": 4,
   "metadata": {},
   "outputs": [],
   "source": [
    "def parallelize_dataframe(df, func, n_cores=10):\n",
    "    df_split = np.array_split(df, n_cores)\n",
    "    pool = multiprocessing.Pool(n_cores)\n",
    "    df = pd.concat(pool.map(func, df_split))\n",
    "    pool.close()\n",
    "    pool.join()\n",
    "    return df"
   ]
  },
  {
   "cell_type": "code",
   "execution_count": 5,
   "metadata": {},
   "outputs": [],
   "source": [
    "d = pd.read_csv('../semantic_f_w2v_g2v_upd_wfilter.csv')"
   ]
  },
  {
   "cell_type": "code",
   "execution_count": 6,
   "metadata": {},
   "outputs": [
    {
     "data": {
      "text/html": [
       "<div>\n",
       "<style scoped>\n",
       "    .dataframe tbody tr th:only-of-type {\n",
       "        vertical-align: middle;\n",
       "    }\n",
       "\n",
       "    .dataframe tbody tr th {\n",
       "        vertical-align: top;\n",
       "    }\n",
       "\n",
       "    .dataframe thead th {\n",
       "        text-align: right;\n",
       "    }\n",
       "</style>\n",
       "<table border=\"1\" class=\"dataframe\">\n",
       "  <thead>\n",
       "    <tr style=\"text-align: right;\">\n",
       "      <th></th>\n",
       "      <th>query_id</th>\n",
       "      <th>query</th>\n",
       "      <th>table_path</th>\n",
       "      <th>table_id</th>\n",
       "      <th>parsedTable</th>\n",
       "      <th>w2v_embd_table</th>\n",
       "      <th>rel</th>\n",
       "      <th>w2v_embd_query</th>\n",
       "      <th>w2v_early_fusion</th>\n",
       "      <th>w2v_late_fusion</th>\n",
       "      <th>w2v_late_fusion_max</th>\n",
       "      <th>w2v_late_fusion_avg</th>\n",
       "      <th>w2v_late_fusion_sum</th>\n",
       "      <th>query_entites</th>\n",
       "      <th>query_entities_lst</th>\n",
       "      <th>table_entities</th>\n",
       "      <th>g2v_embd_table</th>\n",
       "      <th>g2v_embd_query</th>\n",
       "      <th>g2v_early_fusion</th>\n",
       "      <th>g2v_late_fusion</th>\n",
       "      <th>g2v_late_fusion_max</th>\n",
       "      <th>g2v_late_fusion_avg</th>\n",
       "      <th>g2v_late_fusion_sum</th>\n",
       "      <th>query_entities_oh</th>\n",
       "      <th>table_entities_filter</th>\n",
       "    </tr>\n",
       "  </thead>\n",
       "  <tbody>\n",
       "    <tr>\n",
       "      <th>0</th>\n",
       "      <td>1</td>\n",
       "      <td>world interest rates Table</td>\n",
       "      <td>/home/vibhav/table2vec/tables_redi2_1/re_table...</td>\n",
       "      <td>table-0875-680</td>\n",
       "      <td>['experian', 'score', 'expected', 'annual', 'l...</td>\n",
       "      <td>[[-0.09472656 -0.51171875  0.05810547 ...  0.3...</td>\n",
       "      <td>0</td>\n",
       "      <td>[[-6.3964844e-02  6.8359375e-02  2.2460938e-01...</td>\n",
       "      <td>0.572375</td>\n",
       "      <td>[ 0.07764402  0.04398614  0.062119    0.131361...</td>\n",
       "      <td>1.0</td>\n",
       "      <td>0.132950</td>\n",
       "      <td>18.081264</td>\n",
       "      <td>{'3': {'entity': '&lt;dbpedia:Permanent_interest_...</td>\n",
       "      <td>['Rate_risk', 'Inflation_targeting', 'Overnigh...</td>\n",
       "      <td>['Cash_advance', 'Subprime_lending', 'Credit_c...</td>\n",
       "      <td>[[-0.10551962  0.16365984 -0.10385874 ...  0.0...</td>\n",
       "      <td>[[-0.16757718  0.09818904 -0.15539637 ...  0.0...</td>\n",
       "      <td>0.630084</td>\n",
       "      <td>[0.8126399  0.5829352  0.8141425  ... 0.798044...</td>\n",
       "      <td>0.857562</td>\n",
       "      <td>0.585746</td>\n",
       "      <td>10747.270508</td>\n",
       "      <td>[[0. 0. 0. ... 0. 0. 0.]\\n [0. 0. 0. ... 0. 0....</td>\n",
       "      <td>['Cash_advance', 'Subprime_lending', 'Credit_c...</td>\n",
       "    </tr>\n",
       "    <tr>\n",
       "      <th>1</th>\n",
       "      <td>1</td>\n",
       "      <td>world interest rates Table</td>\n",
       "      <td>/home/vibhav/table2vec/tables_redi2_1/re_table...</td>\n",
       "      <td>table-1020-619</td>\n",
       "      <td>['annual', 'inflation', 'rates', 'aug', 'sep',...</td>\n",
       "      <td>[[ 0.0390625   0.01586914 -0.07373047 ...  0.1...</td>\n",
       "      <td>0</td>\n",
       "      <td>[[-6.3964844e-02  6.8359375e-02  2.2460938e-01...</td>\n",
       "      <td>0.681248</td>\n",
       "      <td>[ 0.13136129  0.06132873  0.00324154  0.019790...</td>\n",
       "      <td>1.0</td>\n",
       "      <td>0.160487</td>\n",
       "      <td>10.271143</td>\n",
       "      <td>{'3': {'entity': '&lt;dbpedia:Permanent_interest_...</td>\n",
       "      <td>['Rate_risk', 'Inflation_targeting', 'Overnigh...</td>\n",
       "      <td>['Ultra-Tories', 'Zero_interest-rate_policy', ...</td>\n",
       "      <td>[[-0.5667573   0.05929473 -0.35778925 ... -0.3...</td>\n",
       "      <td>[[-0.16757718  0.09818904 -0.15539637 ...  0.0...</td>\n",
       "      <td>0.769993</td>\n",
       "      <td>[0.5664706  0.6671674  0.63320464 ... 0.680116...</td>\n",
       "      <td>0.899880</td>\n",
       "      <td>0.620371</td>\n",
       "      <td>12417.335938</td>\n",
       "      <td>[[0. 0. 0. ... 0. 0. 0.]\\n [0. 0. 0. ... 0. 0....</td>\n",
       "      <td>['Ultra-Tories', 'Zero_interest-rate_policy', ...</td>\n",
       "    </tr>\n",
       "    <tr>\n",
       "      <th>2</th>\n",
       "      <td>1</td>\n",
       "      <td>world interest rates Table</td>\n",
       "      <td>/home/vibhav/table2vec/tables_redi2_1/re_table...</td>\n",
       "      <td>table-0288-531</td>\n",
       "      <td>['regret', 'interest', 'rates', 'rise', 'stati...</td>\n",
       "      <td>[[ 1.9287109e-02  7.5195312e-02  3.4179688e-01...</td>\n",
       "      <td>0</td>\n",
       "      <td>[[-6.3964844e-02  6.8359375e-02  2.2460938e-01...</td>\n",
       "      <td>0.606677</td>\n",
       "      <td>[ 0.09074079  0.07134737  0.00324154  0.122679...</td>\n",
       "      <td>1.0</td>\n",
       "      <td>0.145743</td>\n",
       "      <td>12.825369</td>\n",
       "      <td>{'3': {'entity': '&lt;dbpedia:Permanent_interest_...</td>\n",
       "      <td>['Rate_risk', 'Inflation_targeting', 'Overnigh...</td>\n",
       "      <td>['Expected_utility_hypothesis', 'Loss_function...</td>\n",
       "      <td>[[-0.01618436  0.36752364 -0.41611332 ... -0.2...</td>\n",
       "      <td>[[-0.16757718  0.09818904 -0.15539637 ...  0.0...</td>\n",
       "      <td>0.879135</td>\n",
       "      <td>[0.5724195  0.57001764 0.9345857  ... 0.456453...</td>\n",
       "      <td>1.000000</td>\n",
       "      <td>0.646446</td>\n",
       "      <td>11321.862305</td>\n",
       "      <td>[[0. 0. 0. ... 0. 0. 0.]\\n [0. 0. 0. ... 0. 0....</td>\n",
       "      <td>['Expected_utility_hypothesis', 'Loss_function...</td>\n",
       "    </tr>\n",
       "    <tr>\n",
       "      <th>3</th>\n",
       "      <td>1</td>\n",
       "      <td>world interest rates Table</td>\n",
       "      <td>/home/vibhav/table2vec/tables_redi2_1/re_table...</td>\n",
       "      <td>table-0288-530</td>\n",
       "      <td>['return', 'interest', 'rates', 'rise', 'stati...</td>\n",
       "      <td>[[ 5.1269531e-02  1.2597656e-01 -1.3769531e-01...</td>\n",
       "      <td>0</td>\n",
       "      <td>[[-6.3964844e-02  6.8359375e-02  2.2460938e-01...</td>\n",
       "      <td>0.617735</td>\n",
       "      <td>[ 0.0134912   0.07134737  0.00324154  0.122679...</td>\n",
       "      <td>1.0</td>\n",
       "      <td>0.140305</td>\n",
       "      <td>13.469313</td>\n",
       "      <td>{'3': {'entity': '&lt;dbpedia:Permanent_interest_...</td>\n",
       "      <td>['Rate_risk', 'Inflation_targeting', 'Overnigh...</td>\n",
       "      <td>['Allan_Saint-Maximin', 'Maximin_Coia', 'Saint...</td>\n",
       "      <td>[[-0.28710952  0.19961576 -0.22583863 ...  0.2...</td>\n",
       "      <td>[[-0.16757718  0.09818904 -0.15539637 ...  0.0...</td>\n",
       "      <td>0.866539</td>\n",
       "      <td>[0.77406514 0.61262506 0.56347716 ... 0.734163...</td>\n",
       "      <td>1.000000</td>\n",
       "      <td>0.638918</td>\n",
       "      <td>11722.868164</td>\n",
       "      <td>[[0. 0. 0. ... 0. 0. 0.]\\n [0. 0. 0. ... 0. 0....</td>\n",
       "      <td>['Allan_Saint-Maximin', 'Maximin_Coia', 'Saint...</td>\n",
       "    </tr>\n",
       "    <tr>\n",
       "      <th>4</th>\n",
       "      <td>1</td>\n",
       "      <td>world interest rates Table</td>\n",
       "      <td>/home/vibhav/table2vec/tables_redi2_1/re_table...</td>\n",
       "      <td>table-1000-57</td>\n",
       "      <td>['security', 'nominal', 'interest', 'rates', '...</td>\n",
       "      <td>[[ 1.8920898e-02  1.8554688e-01  4.3945312e-02...</td>\n",
       "      <td>0</td>\n",
       "      <td>[[-6.3964844e-02  6.8359375e-02  2.2460938e-01...</td>\n",
       "      <td>0.586386</td>\n",
       "      <td>[ 9.76208225e-02  4.97327670e-02  7.13473707e-...</td>\n",
       "      <td>1.0</td>\n",
       "      <td>0.139647</td>\n",
       "      <td>18.433437</td>\n",
       "      <td>{'3': {'entity': '&lt;dbpedia:Permanent_interest_...</td>\n",
       "      <td>['Rate_risk', 'Inflation_targeting', 'Overnigh...</td>\n",
       "      <td>['Quantitative_easing', 'Inflation_derivative'...</td>\n",
       "      <td>[[-0.08840087  0.19392557 -0.24297218 ... -0.3...</td>\n",
       "      <td>[[-0.16757718  0.09818904 -0.15539637 ...  0.0...</td>\n",
       "      <td>0.728584</td>\n",
       "      <td>[0.5647532  0.72312397 0.8510286  ... 0.741340...</td>\n",
       "      <td>1.000000</td>\n",
       "      <td>0.633952</td>\n",
       "      <td>11103.036133</td>\n",
       "      <td>[[0. 0. 0. ... 0. 0. 0.]\\n [0. 0. 0. ... 0. 0....</td>\n",
       "      <td>['Quantitative_easing', 'Inflation_derivative'...</td>\n",
       "    </tr>\n",
       "  </tbody>\n",
       "</table>\n",
       "</div>"
      ],
      "text/plain": [
       "   query_id                       query                                         table_path        table_id                                        parsedTable                                     w2v_embd_table  rel                                     w2v_embd_query  w2v_early_fusion                                    w2v_late_fusion  w2v_late_fusion_max  w2v_late_fusion_avg  w2v_late_fusion_sum                                      query_entites                                 query_entities_lst                                     table_entities                                     g2v_embd_table                                     g2v_embd_query  g2v_early_fusion                                    g2v_late_fusion  g2v_late_fusion_max  g2v_late_fusion_avg  g2v_late_fusion_sum                                  query_entities_oh                              table_entities_filter\n",
       "0         1  world interest rates Table  /home/vibhav/table2vec/tables_redi2_1/re_table...  table-0875-680  ['experian', 'score', 'expected', 'annual', 'l...  [[-0.09472656 -0.51171875  0.05810547 ...  0.3...    0  [[-6.3964844e-02  6.8359375e-02  2.2460938e-01...          0.572375  [ 0.07764402  0.04398614  0.062119    0.131361...                  1.0             0.132950            18.081264  {'3': {'entity': '<dbpedia:Permanent_interest_...  ['Rate_risk', 'Inflation_targeting', 'Overnigh...  ['Cash_advance', 'Subprime_lending', 'Credit_c...  [[-0.10551962  0.16365984 -0.10385874 ...  0.0...  [[-0.16757718  0.09818904 -0.15539637 ...  0.0...          0.630084  [0.8126399  0.5829352  0.8141425  ... 0.798044...             0.857562             0.585746         10747.270508  [[0. 0. 0. ... 0. 0. 0.]\\n [0. 0. 0. ... 0. 0....  ['Cash_advance', 'Subprime_lending', 'Credit_c...\n",
       "1         1  world interest rates Table  /home/vibhav/table2vec/tables_redi2_1/re_table...  table-1020-619  ['annual', 'inflation', 'rates', 'aug', 'sep',...  [[ 0.0390625   0.01586914 -0.07373047 ...  0.1...    0  [[-6.3964844e-02  6.8359375e-02  2.2460938e-01...          0.681248  [ 0.13136129  0.06132873  0.00324154  0.019790...                  1.0             0.160487            10.271143  {'3': {'entity': '<dbpedia:Permanent_interest_...  ['Rate_risk', 'Inflation_targeting', 'Overnigh...  ['Ultra-Tories', 'Zero_interest-rate_policy', ...  [[-0.5667573   0.05929473 -0.35778925 ... -0.3...  [[-0.16757718  0.09818904 -0.15539637 ...  0.0...          0.769993  [0.5664706  0.6671674  0.63320464 ... 0.680116...             0.899880             0.620371         12417.335938  [[0. 0. 0. ... 0. 0. 0.]\\n [0. 0. 0. ... 0. 0....  ['Ultra-Tories', 'Zero_interest-rate_policy', ...\n",
       "2         1  world interest rates Table  /home/vibhav/table2vec/tables_redi2_1/re_table...  table-0288-531  ['regret', 'interest', 'rates', 'rise', 'stati...  [[ 1.9287109e-02  7.5195312e-02  3.4179688e-01...    0  [[-6.3964844e-02  6.8359375e-02  2.2460938e-01...          0.606677  [ 0.09074079  0.07134737  0.00324154  0.122679...                  1.0             0.145743            12.825369  {'3': {'entity': '<dbpedia:Permanent_interest_...  ['Rate_risk', 'Inflation_targeting', 'Overnigh...  ['Expected_utility_hypothesis', 'Loss_function...  [[-0.01618436  0.36752364 -0.41611332 ... -0.2...  [[-0.16757718  0.09818904 -0.15539637 ...  0.0...          0.879135  [0.5724195  0.57001764 0.9345857  ... 0.456453...             1.000000             0.646446         11321.862305  [[0. 0. 0. ... 0. 0. 0.]\\n [0. 0. 0. ... 0. 0....  ['Expected_utility_hypothesis', 'Loss_function...\n",
       "3         1  world interest rates Table  /home/vibhav/table2vec/tables_redi2_1/re_table...  table-0288-530  ['return', 'interest', 'rates', 'rise', 'stati...  [[ 5.1269531e-02  1.2597656e-01 -1.3769531e-01...    0  [[-6.3964844e-02  6.8359375e-02  2.2460938e-01...          0.617735  [ 0.0134912   0.07134737  0.00324154  0.122679...                  1.0             0.140305            13.469313  {'3': {'entity': '<dbpedia:Permanent_interest_...  ['Rate_risk', 'Inflation_targeting', 'Overnigh...  ['Allan_Saint-Maximin', 'Maximin_Coia', 'Saint...  [[-0.28710952  0.19961576 -0.22583863 ...  0.2...  [[-0.16757718  0.09818904 -0.15539637 ...  0.0...          0.866539  [0.77406514 0.61262506 0.56347716 ... 0.734163...             1.000000             0.638918         11722.868164  [[0. 0. 0. ... 0. 0. 0.]\\n [0. 0. 0. ... 0. 0....  ['Allan_Saint-Maximin', 'Maximin_Coia', 'Saint...\n",
       "4         1  world interest rates Table  /home/vibhav/table2vec/tables_redi2_1/re_table...   table-1000-57  ['security', 'nominal', 'interest', 'rates', '...  [[ 1.8920898e-02  1.8554688e-01  4.3945312e-02...    0  [[-6.3964844e-02  6.8359375e-02  2.2460938e-01...          0.586386  [ 9.76208225e-02  4.97327670e-02  7.13473707e-...                  1.0             0.139647            18.433437  {'3': {'entity': '<dbpedia:Permanent_interest_...  ['Rate_risk', 'Inflation_targeting', 'Overnigh...  ['Quantitative_easing', 'Inflation_derivative'...  [[-0.08840087  0.19392557 -0.24297218 ... -0.3...  [[-0.16757718  0.09818904 -0.15539637 ...  0.0...          0.728584  [0.5647532  0.72312397 0.8510286  ... 0.741340...             1.000000             0.633952         11103.036133  [[0. 0. 0. ... 0. 0. 0.]\\n [0. 0. 0. ... 0. 0....  ['Quantitative_easing', 'Inflation_derivative'..."
      ]
     },
     "execution_count": 6,
     "metadata": {},
     "output_type": "execute_result"
    }
   ],
   "source": [
    "d.head()"
   ]
  },
  {
   "cell_type": "code",
   "execution_count": 7,
   "metadata": {},
   "outputs": [],
   "source": [
    "shrt_abs = pd.read_csv('./list_short_abstracts.csv')"
   ]
  },
  {
   "cell_type": "code",
   "execution_count": 8,
   "metadata": {},
   "outputs": [],
   "source": [
    "all_ent = list(shrt_abs.iloc[:,1].unique())"
   ]
  },
  {
   "cell_type": "code",
   "execution_count": 9,
   "metadata": {},
   "outputs": [],
   "source": [
    "categ = pd.read_csv('./list_category_labels.csv')"
   ]
  },
  {
   "cell_type": "code",
   "execution_count": 10,
   "metadata": {},
   "outputs": [],
   "source": [
    "all_categ = list(categ.iloc[:,1].unique())"
   ]
  },
  {
   "cell_type": "code",
   "execution_count": 11,
   "metadata": {},
   "outputs": [],
   "source": [
    "ent_w_cat = pd.read_csv('./list_article_categories_grouped.csv')"
   ]
  },
  {
   "cell_type": "code",
   "execution_count": 12,
   "metadata": {
    "jupyter": {
     "outputs_hidden": true
    },
    "scrolled": true
   },
   "outputs": [],
   "source": [
    "# ent_w_cat['2_cat_lst'] = ent_w_cat['2_cat'].parallel_apply(lambda x: x.split('_/:/_'))\n",
    "\n",
    "def modif_ent_w_cat(ent_w_cat):\n",
    "    ent_w_cat['2_cat_lst'] = ent_w_cat['2_cat'].apply(lambda x: x.split('_/:/_'))\n",
    "    return ent_w_cat\n",
    "\n",
    "ent_w_cat = parallelize_dataframe(ent_w_cat, modif_ent_w_cat, 15)"
   ]
  },
  {
   "cell_type": "code",
   "execution_count": 13,
   "metadata": {},
   "outputs": [
    {
     "data": {
      "text/html": [
       "<div>\n",
       "<style scoped>\n",
       "    .dataframe tbody tr th:only-of-type {\n",
       "        vertical-align: middle;\n",
       "    }\n",
       "\n",
       "    .dataframe tbody tr th {\n",
       "        vertical-align: top;\n",
       "    }\n",
       "\n",
       "    .dataframe thead th {\n",
       "        text-align: right;\n",
       "    }\n",
       "</style>\n",
       "<table border=\"1\" class=\"dataframe\">\n",
       "  <thead>\n",
       "    <tr style=\"text-align: right;\">\n",
       "      <th></th>\n",
       "      <th>0_en</th>\n",
       "      <th>2_cat</th>\n",
       "      <th>2_cat_lst</th>\n",
       "    </tr>\n",
       "  </thead>\n",
       "  <tbody>\n",
       "    <tr>\n",
       "      <th>0</th>\n",
       "      <td>!!!</td>\n",
       "      <td>Rock_music_groups_from_California_/:/_Musical_...</td>\n",
       "      <td>[Rock_music_groups_from_California, Musical_gr...</td>\n",
       "    </tr>\n",
       "    <tr>\n",
       "      <th>1</th>\n",
       "      <td>!!!_(album)</td>\n",
       "      <td>!!!_albums_/:/_2001_debut_albums_/:/_Gold_Stan...</td>\n",
       "      <td>[!!!_albums, 2001_debut_albums, Gold_Standard_...</td>\n",
       "    </tr>\n",
       "    <tr>\n",
       "      <th>2</th>\n",
       "      <td>!!Destroy-Oh-Boy!!</td>\n",
       "      <td>1993_debut_albums_/:/_New_Bomb_Turks_albums_/:...</td>\n",
       "      <td>[1993_debut_albums, New_Bomb_Turks_albums, Cry...</td>\n",
       "    </tr>\n",
       "    <tr>\n",
       "      <th>3</th>\n",
       "      <td>!!M</td>\n",
       "      <td>Instant_messaging_clients</td>\n",
       "      <td>[Instant_messaging_clients]</td>\n",
       "    </tr>\n",
       "    <tr>\n",
       "      <th>4</th>\n",
       "      <td>!Action_Pact!</td>\n",
       "      <td>Musical_groups_established_in_1981_/:/_Musical...</td>\n",
       "      <td>[Musical_groups_established_in_1981, Musical_g...</td>\n",
       "    </tr>\n",
       "  </tbody>\n",
       "</table>\n",
       "</div>"
      ],
      "text/plain": [
       "                 0_en                                              2_cat                                          2_cat_lst\n",
       "0                 !!!  Rock_music_groups_from_California_/:/_Musical_...  [Rock_music_groups_from_California, Musical_gr...\n",
       "1         !!!_(album)  !!!_albums_/:/_2001_debut_albums_/:/_Gold_Stan...  [!!!_albums, 2001_debut_albums, Gold_Standard_...\n",
       "2  !!Destroy-Oh-Boy!!  1993_debut_albums_/:/_New_Bomb_Turks_albums_/:...  [1993_debut_albums, New_Bomb_Turks_albums, Cry...\n",
       "3                 !!M                          Instant_messaging_clients                        [Instant_messaging_clients]\n",
       "4       !Action_Pact!  Musical_groups_established_in_1981_/:/_Musical...  [Musical_groups_established_in_1981, Musical_g..."
      ]
     },
     "execution_count": 13,
     "metadata": {},
     "output_type": "execute_result"
    }
   ],
   "source": [
    "ent_w_cat.head()"
   ]
  },
  {
   "cell_type": "code",
   "execution_count": 14,
   "metadata": {},
   "outputs": [
    {
     "data": {
      "text/plain": [
       "(1321139, 4641890)"
      ]
     },
     "execution_count": 14,
     "metadata": {},
     "output_type": "execute_result"
    }
   ],
   "source": [
    "len(all_categ),len(all_ent)"
   ]
  },
  {
   "cell_type": "code",
   "execution_count": 15,
   "metadata": {},
   "outputs": [],
   "source": [
    "d['table_entities_filter'] = d['table_entities_filter'].apply(eval)\n",
    "d['query_entities_lst'] = d['query_entities_lst'].apply(eval)"
   ]
  },
  {
   "cell_type": "code",
   "execution_count": 16,
   "metadata": {},
   "outputs": [],
   "source": [
    "def get1hot(entities):\n",
    "    en = np.array(entities).reshape(-1,1)\n",
    "    return enc.transform(en).toarray()"
   ]
  },
  {
   "cell_type": "code",
   "execution_count": 17,
   "metadata": {},
   "outputs": [
    {
     "data": {
      "text/plain": [
       "OneHotEncoder(categorical_features=None, categories=None, drop=None,\n",
       "              dtype=<class 'numpy.float64'>, handle_unknown='error',\n",
       "              n_values=None, sparse=True)"
      ]
     },
     "execution_count": 17,
     "metadata": {},
     "output_type": "execute_result"
    }
   ],
   "source": [
    "enc = OneHotEncoder()\n",
    "enc.fit(np.array(all_ent).reshape(-1,1))"
   ]
  },
  {
   "cell_type": "code",
   "execution_count": 18,
   "metadata": {},
   "outputs": [],
   "source": [
    "# %%time\n",
    "# l = {}\n",
    "# l_ = list(d.query_entities_lst.unique())\n",
    "# for i in range(len(l_)):\n",
    "#     print(l_[i])\n",
    "#     l[i+1] = get1hot(l_[i])"
   ]
  },
  {
   "cell_type": "code",
   "execution_count": 19,
   "metadata": {},
   "outputs": [],
   "source": [
    "with open('./query_ent_oh_dict.pkl', 'rb') as f:\n",
    "    l = pickle.load(f)"
   ]
  },
  {
   "cell_type": "code",
   "execution_count": 20,
   "metadata": {},
   "outputs": [],
   "source": [
    "d['query_entities_oh'] = d.apply(lambda x: l[x['query_id']],axis=1)"
   ]
  },
  {
   "cell_type": "code",
   "execution_count": 21,
   "metadata": {},
   "outputs": [],
   "source": [
    "# S = set(all_ent)\n",
    "# d['table_entities_filter'] = d.table_entities.parallel_apply(lambda x: list(set(x).intersection(S)))\n",
    "\n",
    "# def modif_tab_en_filter(d):\n",
    "#     d['table_entities_filter'] = d.table_entities.apply(lambda x: [i for i in x if i in all_ent])\n",
    "#     return d\n",
    "\n",
    "# d = parallelize_dataframe(d, modif_tab_en_filter, 15)"
   ]
  },
  {
   "cell_type": "code",
   "execution_count": 22,
   "metadata": {},
   "outputs": [],
   "source": [
    "# d['table_entities_oh'] = d.table_entities_filter.parallel_apply(lambda x: get1hot(x))"
   ]
  },
  {
   "cell_type": "code",
   "execution_count": 23,
   "metadata": {},
   "outputs": [],
   "source": [
    "# %%time\n",
    "# no_of_p = len(l1)//100\n",
    "# df_split = np.array_split(l1, no_of_p)\n",
    "# pool = multiprocessing.Pool(no_of_p)\n",
    "# df = np.concatenate(pool.map(get1hot, df_split),axis=0)"
   ]
  },
  {
   "cell_type": "code",
   "execution_count": 24,
   "metadata": {},
   "outputs": [],
   "source": [
    "# with open('./query_ent_oh_dict.pkl', 'wb') as f:\n",
    "#         pickle.dump(l, f, pickle.HIGHEST_PROTOCOL)"
   ]
  },
  {
   "cell_type": "code",
   "execution_count": 25,
   "metadata": {},
   "outputs": [],
   "source": [
    "a = list(d.table_entities_filter)\n",
    "for i in range(len(a)):\n",
    "    a[i] = np.array(a[i])\n",
    "\n",
    "l1 = []\n",
    "for i in a:\n",
    "    for j in i:\n",
    "        l1.append(j)\n",
    "l1 = list(set(l1))"
   ]
  },
  {
   "cell_type": "code",
   "execution_count": 26,
   "metadata": {},
   "outputs": [],
   "source": [
    "l2 = get1hot(l1)"
   ]
  },
  {
   "cell_type": "code",
   "execution_count": 27,
   "metadata": {},
   "outputs": [],
   "source": [
    "def get_table_ohe(l):\n",
    "    return np.array([l2[l1.index(i)] for i in l])"
   ]
  },
  {
   "cell_type": "code",
   "execution_count": 31,
   "metadata": {},
   "outputs": [],
   "source": [
    "def late_fusion(table,query):\n",
    "    s = []\n",
    "    for i in query:\n",
    "        for j in table:\n",
    "            sim = cosine_similarity(i.reshape(1,-1),j.reshape(1,-1))\n",
    "            s.append(sim)\n",
    "    s = np.array(s).reshape(-1)\n",
    "    return s"
   ]
  },
  {
   "cell_type": "code",
   "execution_count": 48,
   "metadata": {},
   "outputs": [],
   "source": [
    "def early_fusion(table,query):\n",
    "    a = np.average(table,axis=0).reshape(1,-1)\n",
    "    b = np.average(query,axis=0).reshape(1,-1)\n",
    "    sim = cosine_similarity(a,b)\n",
    "    return sim.reshape(-1)[0]"
   ]
  },
  {
   "cell_type": "code",
   "execution_count": 34,
   "metadata": {},
   "outputs": [],
   "source": [
    "from sklearn.metrics.pairwise import cosine_similarity"
   ]
  },
  {
   "cell_type": "code",
   "execution_count": 50,
   "metadata": {},
   "outputs": [],
   "source": [
    "def compute(row):\n",
    "    table_en_oh = np.array([l2[l1.index(i)] for i in row['table_entities_filter']])\n",
    "    query_en_ih = row['query_entities_oh']\n",
    "    return early_fusion(table_en_oh,query_en_ih), late_fusion(table_en_oh,query_en_ih)"
   ]
  },
  {
   "cell_type": "code",
   "execution_count": 56,
   "metadata": {},
   "outputs": [],
   "source": [
    "a = d.iloc[:2].apply(lambda x: compute(x),axis=1)"
   ]
  },
  {
   "cell_type": "code",
   "execution_count": 65,
   "metadata": {},
   "outputs": [
    {
     "name": "stdout",
     "output_type": "stream",
     "text": [
      "9549.274335861206\n"
     ]
    }
   ],
   "source": [
    "t = time.time()\n",
    "# d.iloc[:10].apply(lambda x: compute(x),axis=1)\n",
    "# d.iloc[:10].table_entities_filter.apply(lambda x: get_table_ihe(x))\n",
    "def filter_en(d):\n",
    "    d['table_entities_oh'] = d.apply(lambda x: compute(x),axis=1)\n",
    "    return d\n",
    "\n",
    "z1 = parallelize_dataframe(d, filter_en, 50)\n",
    "print(time.time()-t)\n"
   ]
  },
  {
   "cell_type": "code",
   "execution_count": 77,
   "metadata": {},
   "outputs": [
    {
     "data": {
      "text/html": [
       "<div>\n",
       "<style scoped>\n",
       "    .dataframe tbody tr th:only-of-type {\n",
       "        vertical-align: middle;\n",
       "    }\n",
       "\n",
       "    .dataframe tbody tr th {\n",
       "        vertical-align: top;\n",
       "    }\n",
       "\n",
       "    .dataframe thead th {\n",
       "        text-align: right;\n",
       "    }\n",
       "</style>\n",
       "<table border=\"1\" class=\"dataframe\">\n",
       "  <thead>\n",
       "    <tr style=\"text-align: right;\">\n",
       "      <th></th>\n",
       "      <th>query_id</th>\n",
       "      <th>query</th>\n",
       "      <th>table_path</th>\n",
       "      <th>table_id</th>\n",
       "      <th>parsedTable</th>\n",
       "      <th>w2v_embd_table</th>\n",
       "      <th>rel</th>\n",
       "      <th>w2v_embd_query</th>\n",
       "      <th>w2v_early_fusion</th>\n",
       "      <th>w2v_late_fusion</th>\n",
       "      <th>w2v_late_fusion_max</th>\n",
       "      <th>w2v_late_fusion_avg</th>\n",
       "      <th>w2v_late_fusion_sum</th>\n",
       "      <th>query_entites</th>\n",
       "      <th>query_entities_lst</th>\n",
       "      <th>table_entities</th>\n",
       "      <th>g2v_embd_table</th>\n",
       "      <th>g2v_embd_query</th>\n",
       "      <th>g2v_early_fusion</th>\n",
       "      <th>g2v_late_fusion</th>\n",
       "      <th>g2v_late_fusion_max</th>\n",
       "      <th>g2v_late_fusion_avg</th>\n",
       "      <th>g2v_late_fusion_sum</th>\n",
       "      <th>table_entities_filter</th>\n",
       "      <th>boe_early_fusion</th>\n",
       "      <th>boe_late_fusion</th>\n",
       "    </tr>\n",
       "  </thead>\n",
       "  <tbody>\n",
       "    <tr>\n",
       "      <th>0</th>\n",
       "      <td>1</td>\n",
       "      <td>world interest rates Table</td>\n",
       "      <td>/home/vibhav/table2vec/tables_redi2_1/re_table...</td>\n",
       "      <td>table-0875-680</td>\n",
       "      <td>['experian', 'score', 'expected', 'annual', 'l...</td>\n",
       "      <td>[[-0.09472656 -0.51171875  0.05810547 ...  0.3...</td>\n",
       "      <td>0</td>\n",
       "      <td>[[-6.3964844e-02  6.8359375e-02  2.2460938e-01...</td>\n",
       "      <td>0.572375</td>\n",
       "      <td>[ 0.07764402  0.04398614  0.062119    0.131361...</td>\n",
       "      <td>1.0</td>\n",
       "      <td>0.132950</td>\n",
       "      <td>18.081264</td>\n",
       "      <td>{'3': {'entity': '&lt;dbpedia:Permanent_interest_...</td>\n",
       "      <td>[Rate_risk, Inflation_targeting, Overnight_pol...</td>\n",
       "      <td>['Cash_advance', 'Subprime_lending', 'Credit_c...</td>\n",
       "      <td>[[-0.10551962  0.16365984 -0.10385874 ...  0.0...</td>\n",
       "      <td>[[-0.16757718  0.09818904 -0.15539637 ...  0.0...</td>\n",
       "      <td>0.630084</td>\n",
       "      <td>[0.8126399  0.5829352  0.8141425  ... 0.798044...</td>\n",
       "      <td>0.857562</td>\n",
       "      <td>0.585746</td>\n",
       "      <td>10747.270508</td>\n",
       "      <td>[Cash_advance, Subprime_lending, Credit_card_b...</td>\n",
       "      <td>0.000000</td>\n",
       "      <td>[0.0, 0.0, 0.0, 0.0, 0.0, 0.0, 0.0, 0.0, 0.0, ...</td>\n",
       "    </tr>\n",
       "    <tr>\n",
       "      <th>1</th>\n",
       "      <td>1</td>\n",
       "      <td>world interest rates Table</td>\n",
       "      <td>/home/vibhav/table2vec/tables_redi2_1/re_table...</td>\n",
       "      <td>table-1020-619</td>\n",
       "      <td>['annual', 'inflation', 'rates', 'aug', 'sep',...</td>\n",
       "      <td>[[ 0.0390625   0.01586914 -0.07373047 ...  0.1...</td>\n",
       "      <td>0</td>\n",
       "      <td>[[-6.3964844e-02  6.8359375e-02  2.2460938e-01...</td>\n",
       "      <td>0.681248</td>\n",
       "      <td>[ 0.13136129  0.06132873  0.00324154  0.019790...</td>\n",
       "      <td>1.0</td>\n",
       "      <td>0.160487</td>\n",
       "      <td>10.271143</td>\n",
       "      <td>{'3': {'entity': '&lt;dbpedia:Permanent_interest_...</td>\n",
       "      <td>[Rate_risk, Inflation_targeting, Overnight_pol...</td>\n",
       "      <td>['Ultra-Tories', 'Zero_interest-rate_policy', ...</td>\n",
       "      <td>[[-0.5667573   0.05929473 -0.35778925 ... -0.3...</td>\n",
       "      <td>[[-0.16757718  0.09818904 -0.15539637 ...  0.0...</td>\n",
       "      <td>0.769993</td>\n",
       "      <td>[0.5664706  0.6671674  0.63320464 ... 0.680116...</td>\n",
       "      <td>0.899880</td>\n",
       "      <td>0.620371</td>\n",
       "      <td>12417.335938</td>\n",
       "      <td>[Ultra-Tories, Zero_interest-rate_policy, Inte...</td>\n",
       "      <td>0.065938</td>\n",
       "      <td>[0.0, 0.0, 0.0, 0.0, 0.0, 0.0, 0.0, 0.0, 0.0, ...</td>\n",
       "    </tr>\n",
       "    <tr>\n",
       "      <th>2</th>\n",
       "      <td>1</td>\n",
       "      <td>world interest rates Table</td>\n",
       "      <td>/home/vibhav/table2vec/tables_redi2_1/re_table...</td>\n",
       "      <td>table-0288-531</td>\n",
       "      <td>['regret', 'interest', 'rates', 'rise', 'stati...</td>\n",
       "      <td>[[ 1.9287109e-02  7.5195312e-02  3.4179688e-01...</td>\n",
       "      <td>0</td>\n",
       "      <td>[[-6.3964844e-02  6.8359375e-02  2.2460938e-01...</td>\n",
       "      <td>0.606677</td>\n",
       "      <td>[ 0.09074079  0.07134737  0.00324154  0.122679...</td>\n",
       "      <td>1.0</td>\n",
       "      <td>0.145743</td>\n",
       "      <td>12.825369</td>\n",
       "      <td>{'3': {'entity': '&lt;dbpedia:Permanent_interest_...</td>\n",
       "      <td>[Rate_risk, Inflation_targeting, Overnight_pol...</td>\n",
       "      <td>['Expected_utility_hypothesis', 'Loss_function...</td>\n",
       "      <td>[[-0.01618436  0.36752364 -0.41611332 ... -0.2...</td>\n",
       "      <td>[[-0.16757718  0.09818904 -0.15539637 ...  0.0...</td>\n",
       "      <td>0.879135</td>\n",
       "      <td>[0.5724195  0.57001764 0.9345857  ... 0.456453...</td>\n",
       "      <td>1.000000</td>\n",
       "      <td>0.646446</td>\n",
       "      <td>11321.862305</td>\n",
       "      <td>[Expected_utility_hypothesis, Loss_function, V...</td>\n",
       "      <td>0.000000</td>\n",
       "      <td>[0.0, 0.0, 0.0, 0.0, 0.0, 0.0, 0.0, 0.0, 0.0, ...</td>\n",
       "    </tr>\n",
       "    <tr>\n",
       "      <th>3</th>\n",
       "      <td>1</td>\n",
       "      <td>world interest rates Table</td>\n",
       "      <td>/home/vibhav/table2vec/tables_redi2_1/re_table...</td>\n",
       "      <td>table-0288-530</td>\n",
       "      <td>['return', 'interest', 'rates', 'rise', 'stati...</td>\n",
       "      <td>[[ 5.1269531e-02  1.2597656e-01 -1.3769531e-01...</td>\n",
       "      <td>0</td>\n",
       "      <td>[[-6.3964844e-02  6.8359375e-02  2.2460938e-01...</td>\n",
       "      <td>0.617735</td>\n",
       "      <td>[ 0.0134912   0.07134737  0.00324154  0.122679...</td>\n",
       "      <td>1.0</td>\n",
       "      <td>0.140305</td>\n",
       "      <td>13.469313</td>\n",
       "      <td>{'3': {'entity': '&lt;dbpedia:Permanent_interest_...</td>\n",
       "      <td>[Rate_risk, Inflation_targeting, Overnight_pol...</td>\n",
       "      <td>['Allan_Saint-Maximin', 'Maximin_Coia', 'Saint...</td>\n",
       "      <td>[[-0.28710952  0.19961576 -0.22583863 ...  0.2...</td>\n",
       "      <td>[[-0.16757718  0.09818904 -0.15539637 ...  0.0...</td>\n",
       "      <td>0.866539</td>\n",
       "      <td>[0.77406514 0.61262506 0.56347716 ... 0.734163...</td>\n",
       "      <td>1.000000</td>\n",
       "      <td>0.638918</td>\n",
       "      <td>11722.868164</td>\n",
       "      <td>[Allan_Saint-Maximin, Maximin_Coia, Saint-Maxi...</td>\n",
       "      <td>0.000000</td>\n",
       "      <td>[0.0, 0.0, 0.0, 0.0, 0.0, 0.0, 0.0, 0.0, 0.0, ...</td>\n",
       "    </tr>\n",
       "    <tr>\n",
       "      <th>4</th>\n",
       "      <td>1</td>\n",
       "      <td>world interest rates Table</td>\n",
       "      <td>/home/vibhav/table2vec/tables_redi2_1/re_table...</td>\n",
       "      <td>table-1000-57</td>\n",
       "      <td>['security', 'nominal', 'interest', 'rates', '...</td>\n",
       "      <td>[[ 1.8920898e-02  1.8554688e-01  4.3945312e-02...</td>\n",
       "      <td>0</td>\n",
       "      <td>[[-6.3964844e-02  6.8359375e-02  2.2460938e-01...</td>\n",
       "      <td>0.586386</td>\n",
       "      <td>[ 9.76208225e-02  4.97327670e-02  7.13473707e-...</td>\n",
       "      <td>1.0</td>\n",
       "      <td>0.139647</td>\n",
       "      <td>18.433437</td>\n",
       "      <td>{'3': {'entity': '&lt;dbpedia:Permanent_interest_...</td>\n",
       "      <td>[Rate_risk, Inflation_targeting, Overnight_pol...</td>\n",
       "      <td>['Quantitative_easing', 'Inflation_derivative'...</td>\n",
       "      <td>[[-0.08840087  0.19392557 -0.24297218 ... -0.3...</td>\n",
       "      <td>[[-0.16757718  0.09818904 -0.15539637 ...  0.0...</td>\n",
       "      <td>0.728584</td>\n",
       "      <td>[0.5647532  0.72312397 0.8510286  ... 0.741340...</td>\n",
       "      <td>1.000000</td>\n",
       "      <td>0.633952</td>\n",
       "      <td>11103.036133</td>\n",
       "      <td>[Quantitative_easing, Inflation_derivative, El...</td>\n",
       "      <td>0.072548</td>\n",
       "      <td>[0.0, 0.0, 0.0, 0.0, 0.0, 0.0, 0.0, 0.0, 0.0, ...</td>\n",
       "    </tr>\n",
       "  </tbody>\n",
       "</table>\n",
       "</div>"
      ],
      "text/plain": [
       "   query_id                       query                                         table_path        table_id                                        parsedTable                                     w2v_embd_table  rel                                     w2v_embd_query  w2v_early_fusion                                    w2v_late_fusion  w2v_late_fusion_max  w2v_late_fusion_avg  w2v_late_fusion_sum                                      query_entites                                 query_entities_lst                                     table_entities                                     g2v_embd_table                                     g2v_embd_query  g2v_early_fusion                                    g2v_late_fusion  g2v_late_fusion_max  g2v_late_fusion_avg  g2v_late_fusion_sum                              table_entities_filter  boe_early_fusion                                    boe_late_fusion\n",
       "0         1  world interest rates Table  /home/vibhav/table2vec/tables_redi2_1/re_table...  table-0875-680  ['experian', 'score', 'expected', 'annual', 'l...  [[-0.09472656 -0.51171875  0.05810547 ...  0.3...    0  [[-6.3964844e-02  6.8359375e-02  2.2460938e-01...          0.572375  [ 0.07764402  0.04398614  0.062119    0.131361...                  1.0             0.132950            18.081264  {'3': {'entity': '<dbpedia:Permanent_interest_...  [Rate_risk, Inflation_targeting, Overnight_pol...  ['Cash_advance', 'Subprime_lending', 'Credit_c...  [[-0.10551962  0.16365984 -0.10385874 ...  0.0...  [[-0.16757718  0.09818904 -0.15539637 ...  0.0...          0.630084  [0.8126399  0.5829352  0.8141425  ... 0.798044...             0.857562             0.585746         10747.270508  [Cash_advance, Subprime_lending, Credit_card_b...          0.000000  [0.0, 0.0, 0.0, 0.0, 0.0, 0.0, 0.0, 0.0, 0.0, ...\n",
       "1         1  world interest rates Table  /home/vibhav/table2vec/tables_redi2_1/re_table...  table-1020-619  ['annual', 'inflation', 'rates', 'aug', 'sep',...  [[ 0.0390625   0.01586914 -0.07373047 ...  0.1...    0  [[-6.3964844e-02  6.8359375e-02  2.2460938e-01...          0.681248  [ 0.13136129  0.06132873  0.00324154  0.019790...                  1.0             0.160487            10.271143  {'3': {'entity': '<dbpedia:Permanent_interest_...  [Rate_risk, Inflation_targeting, Overnight_pol...  ['Ultra-Tories', 'Zero_interest-rate_policy', ...  [[-0.5667573   0.05929473 -0.35778925 ... -0.3...  [[-0.16757718  0.09818904 -0.15539637 ...  0.0...          0.769993  [0.5664706  0.6671674  0.63320464 ... 0.680116...             0.899880             0.620371         12417.335938  [Ultra-Tories, Zero_interest-rate_policy, Inte...          0.065938  [0.0, 0.0, 0.0, 0.0, 0.0, 0.0, 0.0, 0.0, 0.0, ...\n",
       "2         1  world interest rates Table  /home/vibhav/table2vec/tables_redi2_1/re_table...  table-0288-531  ['regret', 'interest', 'rates', 'rise', 'stati...  [[ 1.9287109e-02  7.5195312e-02  3.4179688e-01...    0  [[-6.3964844e-02  6.8359375e-02  2.2460938e-01...          0.606677  [ 0.09074079  0.07134737  0.00324154  0.122679...                  1.0             0.145743            12.825369  {'3': {'entity': '<dbpedia:Permanent_interest_...  [Rate_risk, Inflation_targeting, Overnight_pol...  ['Expected_utility_hypothesis', 'Loss_function...  [[-0.01618436  0.36752364 -0.41611332 ... -0.2...  [[-0.16757718  0.09818904 -0.15539637 ...  0.0...          0.879135  [0.5724195  0.57001764 0.9345857  ... 0.456453...             1.000000             0.646446         11321.862305  [Expected_utility_hypothesis, Loss_function, V...          0.000000  [0.0, 0.0, 0.0, 0.0, 0.0, 0.0, 0.0, 0.0, 0.0, ...\n",
       "3         1  world interest rates Table  /home/vibhav/table2vec/tables_redi2_1/re_table...  table-0288-530  ['return', 'interest', 'rates', 'rise', 'stati...  [[ 5.1269531e-02  1.2597656e-01 -1.3769531e-01...    0  [[-6.3964844e-02  6.8359375e-02  2.2460938e-01...          0.617735  [ 0.0134912   0.07134737  0.00324154  0.122679...                  1.0             0.140305            13.469313  {'3': {'entity': '<dbpedia:Permanent_interest_...  [Rate_risk, Inflation_targeting, Overnight_pol...  ['Allan_Saint-Maximin', 'Maximin_Coia', 'Saint...  [[-0.28710952  0.19961576 -0.22583863 ...  0.2...  [[-0.16757718  0.09818904 -0.15539637 ...  0.0...          0.866539  [0.77406514 0.61262506 0.56347716 ... 0.734163...             1.000000             0.638918         11722.868164  [Allan_Saint-Maximin, Maximin_Coia, Saint-Maxi...          0.000000  [0.0, 0.0, 0.0, 0.0, 0.0, 0.0, 0.0, 0.0, 0.0, ...\n",
       "4         1  world interest rates Table  /home/vibhav/table2vec/tables_redi2_1/re_table...   table-1000-57  ['security', 'nominal', 'interest', 'rates', '...  [[ 1.8920898e-02  1.8554688e-01  4.3945312e-02...    0  [[-6.3964844e-02  6.8359375e-02  2.2460938e-01...          0.586386  [ 9.76208225e-02  4.97327670e-02  7.13473707e-...                  1.0             0.139647            18.433437  {'3': {'entity': '<dbpedia:Permanent_interest_...  [Rate_risk, Inflation_targeting, Overnight_pol...  ['Quantitative_easing', 'Inflation_derivative'...  [[-0.08840087  0.19392557 -0.24297218 ... -0.3...  [[-0.16757718  0.09818904 -0.15539637 ...  0.0...          0.728584  [0.5647532  0.72312397 0.8510286  ... 0.741340...             1.000000             0.633952         11103.036133  [Quantitative_easing, Inflation_derivative, El...          0.072548  [0.0, 0.0, 0.0, 0.0, 0.0, 0.0, 0.0, 0.0, 0.0, ..."
      ]
     },
     "execution_count": 77,
     "metadata": {},
     "output_type": "execute_result"
    }
   ],
   "source": [
    "z1.head()"
   ]
  },
  {
   "cell_type": "code",
   "execution_count": 76,
   "metadata": {},
   "outputs": [],
   "source": [
    "z1.drop(columns=['w2v_embd_table','w2v_embd_query'],inplace=True)"
   ]
  },
  {
   "cell_type": "code",
   "execution_count": null,
   "metadata": {},
   "outputs": [],
   "source": [
    "z"
   ]
  }
 ],
 "metadata": {
  "kernelspec": {
   "display_name": "Python 3",
   "language": "python",
   "name": "python3"
  },
  "language_info": {
   "codemirror_mode": {
    "name": "ipython",
    "version": 3
   },
   "file_extension": ".py",
   "mimetype": "text/x-python",
   "name": "python",
   "nbconvert_exporter": "python",
   "pygments_lexer": "ipython3",
   "version": "3.5.2"
  }
 },
 "nbformat": 4,
 "nbformat_minor": 4
}
