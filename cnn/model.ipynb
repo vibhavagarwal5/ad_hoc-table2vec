{
 "cells": [
  {
   "cell_type": "code",
   "execution_count": 1,
   "metadata": {
    "colab": {
     "base_uri": "https://localhost:8080/",
     "height": 80
    },
    "colab_type": "code",
    "id": "W0VBEcYIidCr",
    "outputId": "f99c66ea-f864-4ad2-aee6-03e00c1bef3f"
   },
   "outputs": [
    {
     "name": "stderr",
     "output_type": "stream",
     "text": [
      "Using TensorFlow backend.\n"
     ]
    },
    {
     "data": {
      "text/html": [
       "<p style=\"color: red;\">\n",
       "The default version of TensorFlow in Colab will soon switch to TensorFlow 2.x.<br>\n",
       "We recommend you <a href=\"https://www.tensorflow.org/guide/migrate\" target=\"_blank\">upgrade</a> now \n",
       "or ensure your notebook will continue to use TensorFlow 1.x via the <code>%tensorflow_version 1.x</code> magic:\n",
       "<a href=\"https://colab.research.google.com/notebooks/tensorflow_version.ipynb\" target=\"_blank\">more info</a>.</p>\n"
      ],
      "text/plain": [
       "<IPython.core.display.HTML object>"
      ]
     },
     "metadata": {
      "tags": []
     },
     "output_type": "display_data"
    }
   ],
   "source": [
    "import pandas as pd\n",
    "import numpy as np\n",
    "import pickle\n",
    "import random\n",
    "import os\n",
    "\n",
    "import keras\n",
    "from keras.layers import Dense, Conv1D, MaxPooling1D, Flatten, GlobalMaxPooling1D, Embedding\n",
    "from keras.models import Sequential\n",
    "from sklearn.model_selection import train_test_split\n",
    "from keras.preprocessing.text import Tokenizer\n",
    "from keras.preprocessing.sequence import pad_sequences"
   ]
  },
  {
   "cell_type": "code",
   "execution_count": 0,
   "metadata": {
    "colab": {},
    "colab_type": "code",
    "id": "kxnH4lYxidCw"
   },
   "outputs": [],
   "source": [
    "maxlen = 10\n",
    "batch_size = 32\n",
    "embedding_dims = 100\n",
    "hidden_dims = 250\n",
    "epochs = 500"
   ]
  },
  {
   "cell_type": "code",
   "execution_count": 0,
   "metadata": {
    "colab": {},
    "colab_type": "code",
    "id": "MX5bOnYHidCy"
   },
   "outputs": [],
   "source": [
    "def get_data(X_f, y_f):\n",
    "    with open(X_f, 'rb') as f:\n",
    "#         unpickler = pickle.Unpickler(f)\n",
    "#         X = unpickler.load()\n",
    "        X = pickle.load(f)\n",
    "    with open(y_f, 'rb') as f:\n",
    "        y = pickle.load(f)\n",
    "    X = list(sum(X, []))\n",
    "    y = list(sum(y, []))\n",
    "    return X,y\n",
    "\n",
    "def save_np(f, inp):\n",
    "    np.save(f, inp)\n",
    "\n",
    "def load_np(f):\n",
    "    return np.load(f)\n",
    "\n",
    "def gen_vocab(X):\n",
    "    vocab = []\n",
    "    for i in X:\n",
    "        for j in i:\n",
    "            vocab.append(j)\n",
    "    return np.array(list(set(vocab)))\n",
    "\n",
    "def create_tokenizer(lines):\n",
    "    tokenizer = Tokenizer()\n",
    "    tokenizer.fit_on_texts(lines)\n",
    "    return tokenizer\n",
    "\n",
    "def encode_text(tokenizer, lines, length):\n",
    "    encoded = tokenizer.texts_to_sequences(lines)\n",
    "    padded = pad_sequences(encoded, maxlen=length, padding='post')\n",
    "    return padded"
   ]
  },
  {
   "cell_type": "code",
   "execution_count": 5,
   "metadata": {
    "colab": {
     "base_uri": "https://localhost:8080/",
     "height": 51
    },
    "colab_type": "code",
    "id": "IqE_uKIxidC2",
    "outputId": "b51a8651-bf1c-483d-bffa-a74cb8440463"
   },
   "outputs": [
    {
     "name": "stdout",
     "output_type": "stream",
     "text": [
      "(90796, 10) (90796, 1)\n",
      "72115\n"
     ]
    }
   ],
   "source": [
    "X, y = get_data('./X_2.pkl', './y_2.pkl')\n",
    "# X = pad_seq(X)\n",
    "X = np.array(X)\n",
    "X = encode_text(create_tokenizer(X), X, maxlen)\n",
    "y = np.array(y).reshape((-1,1))\n",
    "# save_np('X_2_emb.npy', X)\n",
    "# save_np('y_2_emb.npy', y)\n",
    "\n",
    "# X = load_np('X_2_emb.npy')\n",
    "# y = load_np('y_2_emb.npy')\n",
    "\n",
    "print(X.shape,y.shape)\n",
    "\n",
    "vocab = gen_vocab(X)\n",
    "print(vocab.shape[0])"
   ]
  },
  {
   "cell_type": "code",
   "execution_count": 6,
   "metadata": {
    "colab": {
     "base_uri": "https://localhost:8080/",
     "height": 34
    },
    "colab_type": "code",
    "id": "dJSrO2qhidC5",
    "outputId": "3036eb89-4fbf-48f3-c709-cb93d69f8cb4"
   },
   "outputs": [
    {
     "name": "stdout",
     "output_type": "stream",
     "text": [
      "(63557, 10) (27239, 10) (63557, 1) (27239, 1)\n"
     ]
    }
   ],
   "source": [
    "X_train, X_test, y_train, y_test = train_test_split(X, y, test_size=0.3, random_state=42)\n",
    "print(X_train.shape, X_test.shape, y_train.shape, y_test.shape)"
   ]
  },
  {
   "cell_type": "code",
   "execution_count": 7,
   "metadata": {
    "colab": {
     "base_uri": "https://localhost:8080/",
     "height": 513
    },
    "colab_type": "code",
    "id": "RnkWWCutidC8",
    "outputId": "c5f14fb4-5399-4498-9034-f1ad8c33eb8c"
   },
   "outputs": [
    {
     "name": "stdout",
     "output_type": "stream",
     "text": [
      "WARNING:tensorflow:From /usr/local/lib/python3.6/dist-packages/keras/backend/tensorflow_backend.py:66: The name tf.get_default_graph is deprecated. Please use tf.compat.v1.get_default_graph instead.\n",
      "\n",
      "WARNING:tensorflow:From /usr/local/lib/python3.6/dist-packages/keras/backend/tensorflow_backend.py:541: The name tf.placeholder is deprecated. Please use tf.compat.v1.placeholder instead.\n",
      "\n",
      "WARNING:tensorflow:From /usr/local/lib/python3.6/dist-packages/keras/backend/tensorflow_backend.py:4432: The name tf.random_uniform is deprecated. Please use tf.random.uniform instead.\n",
      "\n",
      "WARNING:tensorflow:From /usr/local/lib/python3.6/dist-packages/keras/backend/tensorflow_backend.py:4267: The name tf.nn.max_pool is deprecated. Please use tf.nn.max_pool2d instead.\n",
      "\n",
      "Model: \"sequential_1\"\n",
      "_________________________________________________________________\n",
      "Layer (type)                 Output Shape              Param #   \n",
      "=================================================================\n",
      "embedding_1 (Embedding)      (None, 10, 100)           7211500   \n",
      "_________________________________________________________________\n",
      "conv1d_1 (Conv1D)            (None, 6, 64)             32064     \n",
      "_________________________________________________________________\n",
      "max_pooling1d_1 (MaxPooling1 (None, 3, 64)             0         \n",
      "_________________________________________________________________\n",
      "flatten_1 (Flatten)          (None, 192)               0         \n",
      "_________________________________________________________________\n",
      "dense_1 (Dense)              (None, 128)               24704     \n",
      "_________________________________________________________________\n",
      "dense_2 (Dense)              (None, 1)                 129       \n",
      "=================================================================\n",
      "Total params: 7,268,397\n",
      "Trainable params: 7,268,397\n",
      "Non-trainable params: 0\n",
      "_________________________________________________________________\n"
     ]
    }
   ],
   "source": [
    "model = Sequential()\n",
    "model.add(Embedding(vocab.shape[0], embedding_dims,input_length=maxlen))\n",
    "model.add(Conv1D(64, kernel_size=5, activation='relu'))\n",
    "model.add(MaxPooling1D(pool_size=2))\n",
    "model.add(Flatten())\n",
    "model.add(Dense(128, activation='relu'))\n",
    "model.add(Dense(1, activation='sigmoid'))\n",
    "model.summary()"
   ]
  },
  {
   "cell_type": "code",
   "execution_count": 8,
   "metadata": {
    "colab": {
     "base_uri": "https://localhost:8080/",
     "height": 156
    },
    "colab_type": "code",
    "id": "PePIKIJcidC-",
    "outputId": "821e16aa-e8d9-45d1-dede-adafbe03e833"
   },
   "outputs": [
    {
     "name": "stdout",
     "output_type": "stream",
     "text": [
      "WARNING:tensorflow:From /usr/local/lib/python3.6/dist-packages/keras/optimizers.py:793: The name tf.train.Optimizer is deprecated. Please use tf.compat.v1.train.Optimizer instead.\n",
      "\n",
      "WARNING:tensorflow:From /usr/local/lib/python3.6/dist-packages/keras/backend/tensorflow_backend.py:3657: The name tf.log is deprecated. Please use tf.math.log instead.\n",
      "\n",
      "WARNING:tensorflow:From /usr/local/lib/python3.6/dist-packages/tensorflow_core/python/ops/nn_impl.py:183: where (from tensorflow.python.ops.array_ops) is deprecated and will be removed in a future version.\n",
      "Instructions for updating:\n",
      "Use tf.where in 2.0, which has the same broadcast rule as np.where\n"
     ]
    }
   ],
   "source": [
    "model.compile(loss='binary_crossentropy',\n",
    "            optimizer=keras.optimizers.Adam(),\n",
    "            metrics=['accuracy'])"
   ]
  },
  {
   "cell_type": "code",
   "execution_count": 0,
   "metadata": {
    "colab": {
     "base_uri": "https://localhost:8080/",
     "height": 1000
    },
    "colab_type": "code",
    "id": "_vjxniDBidDB",
    "outputId": "7e732778-4a1c-4b19-c82b-6fad94bfc001"
   },
   "outputs": [
    {
     "name": "stdout",
     "output_type": "stream",
     "text": [
      "WARNING:tensorflow:From /usr/local/lib/python3.6/dist-packages/keras/backend/tensorflow_backend.py:1033: The name tf.assign_add is deprecated. Please use tf.compat.v1.assign_add instead.\n",
      "\n",
      "WARNING:tensorflow:From /usr/local/lib/python3.6/dist-packages/keras/backend/tensorflow_backend.py:1020: The name tf.assign is deprecated. Please use tf.compat.v1.assign instead.\n",
      "\n",
      "WARNING:tensorflow:From /usr/local/lib/python3.6/dist-packages/keras/backend/tensorflow_backend.py:3005: The name tf.Session is deprecated. Please use tf.compat.v1.Session instead.\n",
      "\n",
      "Train on 63557 samples, validate on 27239 samples\n",
      "Epoch 1/500\n",
      "WARNING:tensorflow:From /usr/local/lib/python3.6/dist-packages/keras/backend/tensorflow_backend.py:190: The name tf.get_default_session is deprecated. Please use tf.compat.v1.get_default_session instead.\n",
      "\n",
      "WARNING:tensorflow:From /usr/local/lib/python3.6/dist-packages/keras/backend/tensorflow_backend.py:197: The name tf.ConfigProto is deprecated. Please use tf.compat.v1.ConfigProto instead.\n",
      "\n",
      "WARNING:tensorflow:From /usr/local/lib/python3.6/dist-packages/keras/backend/tensorflow_backend.py:207: The name tf.global_variables is deprecated. Please use tf.compat.v1.global_variables instead.\n",
      "\n",
      "WARNING:tensorflow:From /usr/local/lib/python3.6/dist-packages/keras/backend/tensorflow_backend.py:216: The name tf.is_variable_initialized is deprecated. Please use tf.compat.v1.is_variable_initialized instead.\n",
      "\n",
      "WARNING:tensorflow:From /usr/local/lib/python3.6/dist-packages/keras/backend/tensorflow_backend.py:223: The name tf.variables_initializer is deprecated. Please use tf.compat.v1.variables_initializer instead.\n",
      "\n",
      "63557/63557 [==============================] - 31s 484us/step - loss: 0.0371 - acc: 2.6748e-04 - val_loss: -0.0250 - val_acc: 0.0000e+00\n",
      "Epoch 2/500\n",
      "63557/63557 [==============================] - 28s 448us/step - loss: 0.0177 - acc: 0.0000e+00 - val_loss: -0.0150 - val_acc: 0.0000e+00\n",
      "Epoch 3/500\n",
      "63557/63557 [==============================] - 29s 450us/step - loss: 0.0115 - acc: 0.0000e+00 - val_loss: -0.0054 - val_acc: 0.0000e+00\n",
      "Epoch 4/500\n",
      "63557/63557 [==============================] - 29s 449us/step - loss: 0.0079 - acc: 4.7202e-05 - val_loss: 0.0162 - val_acc: 0.0000e+00\n",
      "Epoch 5/500\n",
      "63557/63557 [==============================] - 28s 447us/step - loss: 0.0027 - acc: 2.0454e-04 - val_loss: 0.0020 - val_acc: 0.0000e+00\n",
      "Epoch 6/500\n",
      "63557/63557 [==============================] - 29s 450us/step - loss: 0.0114 - acc: 0.0014 - val_loss: 0.0939 - val_acc: 0.0000e+00\n",
      "Epoch 7/500\n",
      "63557/63557 [==============================] - 28s 448us/step - loss: -0.0205 - acc: 3.7761e-04 - val_loss: 0.0545 - val_acc: 0.0000e+00\n",
      "Epoch 8/500\n",
      "63557/63557 [==============================] - 28s 446us/step - loss: -0.0199 - acc: 0.0017 - val_loss: 0.6134 - val_acc: 0.0000e+00\n",
      "Epoch 9/500\n",
      "63557/63557 [==============================] - 29s 450us/step - loss: -0.0818 - acc: 0.0013 - val_loss: 0.3143 - val_acc: 1.1014e-04\n",
      "Epoch 10/500\n",
      "63557/63557 [==============================] - 28s 445us/step - loss: -0.3372 - acc: 0.0034 - val_loss: 1.7060 - val_acc: 3.6712e-05\n",
      "Epoch 11/500\n",
      "63557/63557 [==============================] - 28s 448us/step - loss: -0.7686 - acc: 0.0051 - val_loss: 2.9459 - val_acc: 3.3041e-04\n",
      "Epoch 12/500\n",
      "63557/63557 [==============================] - 28s 448us/step - loss: -1.1651 - acc: 0.0075 - val_loss: 4.1316 - val_acc: 1.4685e-04\n",
      "Epoch 13/500\n",
      "63557/63557 [==============================] - 28s 447us/step - loss: -1.4217 - acc: 0.0234 - val_loss: 4.3925 - val_acc: 2.9370e-04\n",
      "Epoch 14/500\n",
      "63557/63557 [==============================] - 29s 450us/step - loss: -1.5870 - acc: 0.0551 - val_loss: 5.1580 - val_acc: 0.0017\n",
      "Epoch 15/500\n",
      "63557/63557 [==============================] - 28s 448us/step - loss: -1.6933 - acc: 0.0754 - val_loss: 6.1070 - val_acc: 0.0045\n",
      "Epoch 16/500\n",
      "63557/63557 [==============================] - 28s 446us/step - loss: -1.7640 - acc: 0.0881 - val_loss: 6.7565 - val_acc: 0.0064\n",
      "Epoch 17/500\n",
      "63557/63557 [==============================] - 28s 446us/step - loss: -1.7973 - acc: 0.0970 - val_loss: 6.9841 - val_acc: 0.0059\n",
      "Epoch 18/500\n",
      "63557/63557 [==============================] - 28s 448us/step - loss: -1.8368 - acc: 0.1019 - val_loss: 7.7012 - val_acc: 0.0056\n",
      "Epoch 19/500\n",
      "63557/63557 [==============================] - 29s 449us/step - loss: -1.8753 - acc: 0.1071 - val_loss: 7.8610 - val_acc: 0.0037\n",
      "Epoch 20/500\n",
      "63557/63557 [==============================] - 29s 451us/step - loss: -1.8946 - acc: 0.1108 - val_loss: 8.1196 - val_acc: 0.0042\n",
      "Epoch 21/500\n",
      "63557/63557 [==============================] - 28s 448us/step - loss: -1.9108 - acc: 0.1123 - val_loss: 9.4439 - val_acc: 0.0056\n",
      "Epoch 22/500\n",
      "63557/63557 [==============================] - 28s 447us/step - loss: -1.9084 - acc: 0.1147 - val_loss: 9.4418 - val_acc: 0.0035\n",
      "Epoch 23/500\n",
      "63557/63557 [==============================] - 28s 440us/step - loss: -1.9178 - acc: 0.1158 - val_loss: 8.5894 - val_acc: 0.0023\n",
      "Epoch 24/500\n",
      "63557/63557 [==============================] - 28s 441us/step - loss: -1.9342 - acc: 0.1175 - val_loss: 10.2862 - val_acc: 0.0053\n",
      "Epoch 25/500\n",
      "63557/63557 [==============================] - 28s 442us/step - loss: -1.9382 - acc: 0.1173 - val_loss: 9.3547 - val_acc: 0.0038\n",
      "Epoch 26/500\n",
      "63557/63557 [==============================] - 28s 441us/step - loss: -1.9477 - acc: 0.1193 - val_loss: 9.6257 - val_acc: 0.0023\n",
      "Epoch 27/500\n",
      "63557/63557 [==============================] - 28s 441us/step - loss: -1.9945 - acc: 0.1202 - val_loss: 8.9871 - val_acc: 0.0019\n",
      "Epoch 28/500\n",
      "63557/63557 [==============================] - 28s 442us/step - loss: -1.9817 - acc: 0.1205 - val_loss: 10.4147 - val_acc: 0.0033\n",
      "Epoch 29/500\n",
      "63557/63557 [==============================] - 28s 440us/step - loss: -2.0021 - acc: 0.1219 - val_loss: 10.9181 - val_acc: 0.0043\n",
      "Epoch 30/500\n",
      "63557/63557 [==============================] - 28s 440us/step - loss: -2.0288 - acc: 0.1230 - val_loss: 10.3201 - val_acc: 0.0030\n",
      "Epoch 31/500\n",
      "63557/63557 [==============================] - 28s 442us/step - loss: -2.0293 - acc: 0.1234 - val_loss: 10.3053 - val_acc: 0.0034\n",
      "Epoch 32/500\n",
      "63557/63557 [==============================] - 28s 440us/step - loss: -2.0248 - acc: 0.1241 - val_loss: 10.9556 - val_acc: 0.0033\n",
      "Epoch 33/500\n",
      "63557/63557 [==============================] - 28s 441us/step - loss: -2.0248 - acc: 0.1245 - val_loss: 11.4208 - val_acc: 0.0048\n",
      "Epoch 34/500\n",
      "63557/63557 [==============================] - 28s 440us/step - loss: -2.0278 - acc: 0.1245 - val_loss: 10.7570 - val_acc: 0.0032\n",
      "Epoch 35/500\n",
      "63557/63557 [==============================] - 28s 439us/step - loss: -2.0177 - acc: 0.1244 - val_loss: 11.4791 - val_acc: 0.0034\n",
      "Epoch 36/500\n",
      "63557/63557 [==============================] - 28s 442us/step - loss: -2.0380 - acc: 0.1253 - val_loss: 11.1472 - val_acc: 0.0022\n",
      "Epoch 37/500\n",
      "63557/63557 [==============================] - 28s 440us/step - loss: -2.0384 - acc: 0.1260 - val_loss: 11.1496 - val_acc: 0.0025\n",
      "Epoch 38/500\n",
      "63557/63557 [==============================] - 28s 440us/step - loss: -2.0291 - acc: 0.1259 - val_loss: 12.2095 - val_acc: 0.0038\n",
      "Epoch 39/500\n",
      "63557/63557 [==============================] - 28s 439us/step - loss: -2.0517 - acc: 0.1268 - val_loss: 11.1368 - val_acc: 0.0031\n",
      "Epoch 40/500\n",
      "63557/63557 [==============================] - 28s 441us/step - loss: -2.0385 - acc: 0.1267 - val_loss: 11.4578 - val_acc: 0.0022\n",
      "Epoch 41/500\n",
      "63557/63557 [==============================] - 28s 438us/step - loss: -2.0731 - acc: 0.1270 - val_loss: 12.0650 - val_acc: 0.0032\n",
      "Epoch 42/500\n",
      "63557/63557 [==============================] - 28s 443us/step - loss: -2.0547 - acc: 0.1272 - val_loss: 12.8846 - val_acc: 0.0052\n",
      "Epoch 43/500\n",
      "63557/63557 [==============================] - 28s 438us/step - loss: -2.0651 - acc: 0.1277 - val_loss: 10.6891 - val_acc: 0.0022\n",
      "Epoch 44/500\n",
      "63557/63557 [==============================] - 28s 439us/step - loss: -2.0816 - acc: 0.1279 - val_loss: 12.5187 - val_acc: 0.0040\n",
      "Epoch 45/500\n",
      "63557/63557 [==============================] - 28s 438us/step - loss: -2.0916 - acc: 0.1283 - val_loss: 10.1877 - val_acc: 0.0016\n",
      "Epoch 46/500\n",
      "63557/63557 [==============================] - 28s 437us/step - loss: -2.0828 - acc: 0.1285 - val_loss: 10.5636 - val_acc: 0.0017\n",
      "Epoch 47/500\n",
      "63557/63557 [==============================] - 28s 446us/step - loss: -2.1012 - acc: 0.1287 - val_loss: 12.5340 - val_acc: 0.0033\n",
      "Epoch 48/500\n",
      "63557/63557 [==============================] - 28s 439us/step - loss: -2.1159 - acc: 0.1289 - val_loss: 13.6818 - val_acc: 0.0046\n",
      "Epoch 49/500\n",
      "63557/63557 [==============================] - 28s 438us/step - loss: -2.0963 - acc: 0.1291 - val_loss: 12.5755 - val_acc: 0.0029\n",
      "Epoch 50/500\n",
      "63557/63557 [==============================] - 28s 438us/step - loss: -2.1054 - acc: 0.1289 - val_loss: 12.4722 - val_acc: 0.0036\n",
      "Epoch 51/500\n",
      "63557/63557 [==============================] - 28s 437us/step - loss: -2.1050 - acc: 0.1290 - val_loss: 12.4518 - val_acc: 0.0029\n",
      "Epoch 52/500\n",
      "63557/63557 [==============================] - 28s 437us/step - loss: -2.1161 - acc: 0.1299 - val_loss: 11.6958 - val_acc: 0.0022\n",
      "Epoch 53/500\n",
      "63557/63557 [==============================] - 28s 439us/step - loss: -2.1311 - acc: 0.1303 - val_loss: 13.9556 - val_acc: 0.0036\n",
      "Epoch 54/500\n",
      "63557/63557 [==============================] - 28s 435us/step - loss: -2.1242 - acc: 0.1301 - val_loss: 13.2761 - val_acc: 0.0032\n",
      "Epoch 55/500\n",
      "63557/63557 [==============================] - 28s 436us/step - loss: -2.1245 - acc: 0.1305 - val_loss: 14.4106 - val_acc: 0.0043\n",
      "Epoch 56/500\n",
      "63557/63557 [==============================] - 28s 433us/step - loss: -2.1236 - acc: 0.1306 - val_loss: 13.7068 - val_acc: 0.0032\n",
      "Epoch 57/500\n",
      "63557/63557 [==============================] - 27s 430us/step - loss: -2.1420 - acc: 0.1313 - val_loss: 12.8763 - val_acc: 0.0030\n",
      "Epoch 58/500\n",
      "63557/63557 [==============================] - 28s 435us/step - loss: -2.1370 - acc: 0.1313 - val_loss: 13.3246 - val_acc: 0.0034\n",
      "Epoch 59/500\n",
      "63557/63557 [==============================] - 27s 432us/step - loss: -2.1289 - acc: 0.1315 - val_loss: 13.8598 - val_acc: 0.0048\n",
      "Epoch 60/500\n",
      "63557/63557 [==============================] - 27s 431us/step - loss: -2.1457 - acc: 0.1320 - val_loss: 13.9688 - val_acc: 0.0041\n",
      "Epoch 61/500\n",
      "63557/63557 [==============================] - 27s 428us/step - loss: -2.1360 - acc: 0.1319 - val_loss: 13.3238 - val_acc: 0.0034\n",
      "Epoch 62/500\n",
      "63557/63557 [==============================] - 27s 429us/step - loss: -2.1369 - acc: 0.1322 - val_loss: 13.3304 - val_acc: 0.0033\n",
      "Epoch 63/500\n",
      "63557/63557 [==============================] - 27s 429us/step - loss: -2.1260 - acc: 0.1321 - val_loss: 13.5455 - val_acc: 0.0039\n",
      "Epoch 64/500\n",
      "63557/63557 [==============================] - 27s 432us/step - loss: -2.1423 - acc: 0.1327 - val_loss: 12.0375 - val_acc: 0.0022\n",
      "Epoch 65/500\n",
      "63557/63557 [==============================] - 28s 433us/step - loss: -2.1578 - acc: 0.1335 - val_loss: 13.1686 - val_acc: 0.0032\n",
      "Epoch 66/500\n",
      "63557/63557 [==============================] - 27s 430us/step - loss: -2.1551 - acc: 0.1332 - val_loss: 13.2011 - val_acc: 0.0039\n",
      "Epoch 67/500\n",
      "63557/63557 [==============================] - 28s 435us/step - loss: -2.1557 - acc: 0.1336 - val_loss: 12.7748 - val_acc: 0.0030\n",
      "Epoch 68/500\n",
      "63557/63557 [==============================] - 28s 438us/step - loss: -2.1517 - acc: 0.1338 - val_loss: 13.5217 - val_acc: 0.0039\n",
      "Epoch 69/500\n",
      "63557/63557 [==============================] - 28s 441us/step - loss: -2.1429 - acc: 0.1336 - val_loss: 13.3772 - val_acc: 0.0037\n",
      "Epoch 70/500\n",
      "63557/63557 [==============================] - 28s 438us/step - loss: -2.1457 - acc: 0.1341 - val_loss: 13.9635 - val_acc: 0.0039\n",
      "Epoch 71/500\n",
      "63557/63557 [==============================] - 28s 435us/step - loss: -2.1593 - acc: 0.1340 - val_loss: 13.6662 - val_acc: 0.0036\n",
      "Epoch 72/500\n",
      "63557/63557 [==============================] - 28s 436us/step - loss: -2.1646 - acc: 0.1342 - val_loss: 13.6584 - val_acc: 0.0032\n",
      "Epoch 73/500\n",
      "63557/63557 [==============================] - 28s 437us/step - loss: -2.1563 - acc: 0.1342 - val_loss: 12.0324 - val_acc: 0.0023\n",
      "Epoch 74/500\n",
      "63557/63557 [==============================] - 28s 435us/step - loss: -2.1667 - acc: 0.1344 - val_loss: 12.8187 - val_acc: 0.0026\n",
      "Epoch 75/500\n",
      "63557/63557 [==============================] - 28s 435us/step - loss: -2.1450 - acc: 0.1342 - val_loss: 14.1650 - val_acc: 0.0035\n",
      "Epoch 76/500\n",
      "63557/63557 [==============================] - 28s 440us/step - loss: -2.1695 - acc: 0.1346 - val_loss: 13.6736 - val_acc: 0.0029\n",
      "Epoch 77/500\n",
      "63557/63557 [==============================] - 28s 434us/step - loss: -2.1749 - acc: 0.1346 - val_loss: 14.6315 - val_acc: 0.0041\n",
      "Epoch 78/500\n",
      "63557/63557 [==============================] - 28s 438us/step - loss: -2.1703 - acc: 0.1349 - val_loss: 14.0517 - val_acc: 0.0031\n",
      "Epoch 79/500\n",
      "63557/63557 [==============================] - 28s 438us/step - loss: -2.1762 - acc: 0.1347 - val_loss: 14.2429 - val_acc: 0.0032\n",
      "Epoch 80/500\n",
      "63557/63557 [==============================] - 28s 438us/step - loss: -2.1622 - acc: 0.1347 - val_loss: 14.2725 - val_acc: 0.0036\n",
      "Epoch 81/500\n",
      "63557/63557 [==============================] - 28s 439us/step - loss: -2.1647 - acc: 0.1347 - val_loss: 13.0565 - val_acc: 0.0023\n",
      "Epoch 82/500\n",
      "63557/63557 [==============================] - 28s 439us/step - loss: -2.1746 - acc: 0.1349 - val_loss: 14.1687 - val_acc: 0.0035\n",
      "Epoch 83/500\n",
      "63557/63557 [==============================] - 28s 438us/step - loss: -2.1810 - acc: 0.1351 - val_loss: 13.0447 - val_acc: 0.0023\n",
      "Epoch 84/500\n",
      "63557/63557 [==============================] - 28s 438us/step - loss: -2.1789 - acc: 0.1350 - val_loss: 14.3558 - val_acc: 0.0035\n",
      "Epoch 85/500\n",
      "63557/63557 [==============================] - 28s 438us/step - loss: -2.1803 - acc: 0.1350 - val_loss: 12.2057 - val_acc: 0.0021\n",
      "Epoch 86/500\n",
      "63557/63557 [==============================] - 28s 439us/step - loss: -2.1801 - acc: 0.1350 - val_loss: 13.5550 - val_acc: 0.0032\n",
      "Epoch 87/500\n",
      "63557/63557 [==============================] - 28s 441us/step - loss: -2.1776 - acc: 0.1352 - val_loss: 14.7260 - val_acc: 0.0040\n",
      "Epoch 88/500\n",
      "63557/63557 [==============================] - 28s 439us/step - loss: -2.1782 - acc: 0.1349 - val_loss: 14.2586 - val_acc: 0.0035\n",
      "Epoch 89/500\n",
      "63557/63557 [==============================] - 28s 436us/step - loss: -2.1795 - acc: 0.1353 - val_loss: 14.1462 - val_acc: 0.0036\n",
      "Epoch 90/500\n",
      "63557/63557 [==============================] - 28s 434us/step - loss: -2.1741 - acc: 0.1354 - val_loss: 13.8384 - val_acc: 0.0025\n",
      "Epoch 91/500\n",
      "63557/63557 [==============================] - 28s 440us/step - loss: -2.1808 - acc: 0.1354 - val_loss: 13.5550 - val_acc: 0.0028\n",
      "Epoch 92/500\n",
      "63557/63557 [==============================] - 28s 439us/step - loss: -2.1877 - acc: 0.1352 - val_loss: 15.1106 - val_acc: 0.0058\n",
      "Epoch 93/500\n",
      "63557/63557 [==============================] - 28s 439us/step - loss: -2.1914 - acc: 0.1357 - val_loss: 13.6235 - val_acc: 0.0029\n",
      "Epoch 94/500\n",
      "63557/63557 [==============================] - 28s 438us/step - loss: -2.1949 - acc: 0.1357 - val_loss: 14.3412 - val_acc: 0.0034\n",
      "Epoch 95/500\n",
      "63557/63557 [==============================] - 28s 442us/step - loss: -2.1898 - acc: 0.1356 - val_loss: 14.1939 - val_acc: 0.0035\n",
      "Epoch 96/500\n",
      "63557/63557 [==============================] - 28s 438us/step - loss: -2.1836 - acc: 0.1356 - val_loss: 14.2418 - val_acc: 0.0023\n",
      "Epoch 97/500\n",
      "63557/63557 [==============================] - 28s 440us/step - loss: -2.1878 - acc: 0.1358 - val_loss: 13.8136 - val_acc: 0.0028\n",
      "Epoch 98/500\n",
      "63557/63557 [==============================] - 28s 437us/step - loss: -2.1874 - acc: 0.1357 - val_loss: 14.6918 - val_acc: 0.0033\n",
      "Epoch 99/500\n",
      "63557/63557 [==============================] - 28s 439us/step - loss: -2.1837 - acc: 0.1355 - val_loss: 13.4516 - val_acc: 0.0024\n",
      "Epoch 100/500\n",
      "63557/63557 [==============================] - 28s 437us/step - loss: -2.1915 - acc: 0.1358 - val_loss: 13.6635 - val_acc: 0.0024\n",
      "Epoch 101/500\n",
      "63557/63557 [==============================] - 28s 437us/step - loss: -2.1891 - acc: 0.1357 - val_loss: 14.7520 - val_acc: 0.0034\n",
      "Epoch 102/500\n",
      "63557/63557 [==============================] - 28s 441us/step - loss: -2.1915 - acc: 0.1359 - val_loss: 15.0642 - val_acc: 0.0037\n",
      "Epoch 103/500\n",
      "63557/63557 [==============================] - 28s 438us/step - loss: -2.1897 - acc: 0.1360 - val_loss: 14.2393 - val_acc: 0.0029\n",
      "Epoch 104/500\n",
      "63557/63557 [==============================] - 28s 440us/step - loss: -2.2027 - acc: 0.1361 - val_loss: 13.5895 - val_acc: 0.0024\n",
      "Epoch 105/500\n",
      "63557/63557 [==============================] - 28s 436us/step - loss: -2.1799 - acc: 0.1360 - val_loss: 14.3816 - val_acc: 0.0032\n",
      "Epoch 106/500\n",
      "63557/63557 [==============================] - 28s 439us/step - loss: -2.1906 - acc: 0.1360 - val_loss: 13.7432 - val_acc: 0.0026\n",
      "Epoch 107/500\n",
      "63557/63557 [==============================] - 28s 438us/step - loss: -2.1954 - acc: 0.1360 - val_loss: 14.5589 - val_acc: 0.0035\n",
      "Epoch 108/500\n",
      "63557/63557 [==============================] - 28s 441us/step - loss: -2.1912 - acc: 0.1361 - val_loss: 13.8266 - val_acc: 0.0024\n",
      "Epoch 109/500\n",
      "63557/63557 [==============================] - 28s 443us/step - loss: -2.2046 - acc: 0.1360 - val_loss: 14.0445 - val_acc: 0.0026\n",
      "Epoch 110/500\n",
      "63557/63557 [==============================] - 28s 440us/step - loss: -2.2029 - acc: 0.1358 - val_loss: 14.0045 - val_acc: 0.0024\n",
      "Epoch 111/500\n",
      "63557/63557 [==============================] - 28s 439us/step - loss: -2.1911 - acc: 0.1361 - val_loss: 14.8291 - val_acc: 0.0033\n",
      "Epoch 112/500\n",
      "63557/63557 [==============================] - 28s 439us/step - loss: -2.2084 - acc: 0.1362 - val_loss: 14.0189 - val_acc: 0.0021\n",
      "Epoch 113/500\n",
      "63557/63557 [==============================] - 28s 442us/step - loss: -2.2025 - acc: 0.1360 - val_loss: 13.4603 - val_acc: 0.0022\n",
      "Epoch 114/500\n",
      "63557/63557 [==============================] - 28s 438us/step - loss: -2.1932 - acc: 0.1361 - val_loss: 14.5072 - val_acc: 0.0025\n",
      "Epoch 115/500\n",
      "63557/63557 [==============================] - 28s 439us/step - loss: -2.2025 - acc: 0.1361 - val_loss: 14.3708 - val_acc: 0.0038\n",
      "Epoch 116/500\n",
      "63557/63557 [==============================] - 28s 438us/step - loss: -2.2017 - acc: 0.1358 - val_loss: 14.3757 - val_acc: 0.0020\n",
      "Epoch 117/500\n",
      "63557/63557 [==============================] - 28s 440us/step - loss: -2.2081 - acc: 0.1361 - val_loss: 13.6228 - val_acc: 0.0019\n",
      "Epoch 118/500\n",
      "63557/63557 [==============================] - 28s 438us/step - loss: -2.2058 - acc: 0.1362 - val_loss: 14.9460 - val_acc: 0.0029\n",
      "Epoch 119/500\n",
      "63557/63557 [==============================] - 28s 439us/step - loss: -2.2093 - acc: 0.1362 - val_loss: 15.2443 - val_acc: 0.0033\n",
      "Epoch 120/500\n",
      "63557/63557 [==============================] - 28s 443us/step - loss: -2.2005 - acc: 0.1364 - val_loss: 14.8279 - val_acc: 0.0029\n",
      "Epoch 121/500\n",
      "63557/63557 [==============================] - 28s 439us/step - loss: -2.2020 - acc: 0.1364 - val_loss: 14.5470 - val_acc: 0.0022\n",
      "Epoch 122/500\n",
      "63557/63557 [==============================] - 28s 439us/step - loss: -2.2008 - acc: 0.1363 - val_loss: 14.7486 - val_acc: 0.0027\n",
      "Epoch 123/500\n",
      "63557/63557 [==============================] - 28s 438us/step - loss: -2.2099 - acc: 0.1365 - val_loss: 14.5980 - val_acc: 0.0023\n",
      "Epoch 124/500\n",
      "63557/63557 [==============================] - 28s 439us/step - loss: -2.2068 - acc: 0.1363 - val_loss: 14.9488 - val_acc: 0.0023\n",
      "Epoch 125/500\n",
      "63557/63557 [==============================] - 28s 441us/step - loss: -2.2098 - acc: 0.1362 - val_loss: 15.0077 - val_acc: 0.0028\n",
      "Epoch 126/500\n",
      "63557/63557 [==============================] - 28s 438us/step - loss: -2.2104 - acc: 0.1364 - val_loss: 14.3912 - val_acc: 0.0026\n",
      "Epoch 127/500\n",
      "63557/63557 [==============================] - 28s 437us/step - loss: -2.2033 - acc: 0.1361 - val_loss: 14.6054 - val_acc: 0.0028\n",
      "Epoch 128/500\n",
      "63557/63557 [==============================] - 28s 439us/step - loss: -2.2111 - acc: 0.1364 - val_loss: 13.8385 - val_acc: 0.0019\n",
      "Epoch 129/500\n",
      "47264/63557 [=====================>........] - ETA: 6s - loss: -2.2229 - acc: 0.1368"
     ]
    }
   ],
   "source": [
    "model.fit(X_train, y_train,\n",
    "        batch_size=batch_size,\n",
    "        epochs=epochs,\n",
    "        verbose=1,\n",
    "        validation_data=(X_test, y_test)\n",
    "    )"
   ]
  },
  {
   "cell_type": "code",
   "execution_count": 0,
   "metadata": {
    "colab": {},
    "colab_type": "code",
    "id": "TrOX4DGTidDD"
   },
   "outputs": [],
   "source": [
    "score = model.evaluate(X_test, y_test, verbose=0)\n",
    "print('Test loss:', score[0])\n",
    "print('Test accuracy:', score[1])"
   ]
  },
  {
   "cell_type": "code",
   "execution_count": 0,
   "metadata": {
    "colab": {},
    "colab_type": "code",
    "id": "qD5F8WceidDF"
   },
   "outputs": [],
   "source": []
  }
 ],
 "metadata": {
  "accelerator": "GPU",
  "colab": {
   "collapsed_sections": [],
   "name": "model.ipynb",
   "provenance": []
  },
  "kernelspec": {
   "display_name": "Python [conda env:dl_plaidml]",
   "language": "python",
   "name": "conda-env-dl_plaidml-py"
  },
  "language_info": {
   "codemirror_mode": {
    "name": "ipython",
    "version": 3
   },
   "file_extension": ".py",
   "mimetype": "text/x-python",
   "name": "python",
   "nbconvert_exporter": "python",
   "pygments_lexer": "ipython3",
   "version": "3.7.3"
  }
 },
 "nbformat": 4,
 "nbformat_minor": 1
}
