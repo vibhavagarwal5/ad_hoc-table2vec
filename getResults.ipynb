{
 "cells": [
  {
   "cell_type": "code",
   "execution_count": 1,
   "metadata": {},
   "outputs": [],
   "source": [
    "import pandas as pd\n",
    "import numpy as np"
   ]
  },
  {
   "cell_type": "code",
   "execution_count": 65,
   "metadata": {},
   "outputs": [],
   "source": [
    "d = pd.DataFrame()\n",
    "for i in range(5):\n",
    "    d_ = pd.read_csv('./Results/LTR_k5_3_{}.txt'.format(i),sep=' ',header=None)\n",
    "    d_.drop(columns=[3],inplace=True)\n",
    "    d = pd.concat([d,d_])"
   ]
  },
  {
   "cell_type": "code",
   "execution_count": 66,
   "metadata": {},
   "outputs": [
    {
     "data": {
      "text/html": [
       "<div>\n",
       "<style scoped>\n",
       "    .dataframe tbody tr th:only-of-type {\n",
       "        vertical-align: middle;\n",
       "    }\n",
       "\n",
       "    .dataframe tbody tr th {\n",
       "        vertical-align: top;\n",
       "    }\n",
       "\n",
       "    .dataframe thead th {\n",
       "        text-align: right;\n",
       "    }\n",
       "</style>\n",
       "<table border=\"1\" class=\"dataframe\">\n",
       "  <thead>\n",
       "    <tr style=\"text-align: right;\">\n",
       "      <th></th>\n",
       "      <th>0</th>\n",
       "      <th>1</th>\n",
       "      <th>2</th>\n",
       "      <th>4</th>\n",
       "      <th>5</th>\n",
       "    </tr>\n",
       "  </thead>\n",
       "  <tbody>\n",
       "    <tr>\n",
       "      <th>0</th>\n",
       "      <td>1</td>\n",
       "      <td>Q0</td>\n",
       "      <td>table-0875-680</td>\n",
       "      <td>0.000000</td>\n",
       "      <td>smarttable</td>\n",
       "    </tr>\n",
       "    <tr>\n",
       "      <th>1</th>\n",
       "      <td>1</td>\n",
       "      <td>Q0</td>\n",
       "      <td>table-0037-411</td>\n",
       "      <td>0.000000</td>\n",
       "      <td>smarttable</td>\n",
       "    </tr>\n",
       "    <tr>\n",
       "      <th>2</th>\n",
       "      <td>1</td>\n",
       "      <td>Q0</td>\n",
       "      <td>table-0216-976</td>\n",
       "      <td>0.000000</td>\n",
       "      <td>smarttable</td>\n",
       "    </tr>\n",
       "    <tr>\n",
       "      <th>3</th>\n",
       "      <td>1</td>\n",
       "      <td>Q0</td>\n",
       "      <td>table-0389-400</td>\n",
       "      <td>0.000000</td>\n",
       "      <td>smarttable</td>\n",
       "    </tr>\n",
       "    <tr>\n",
       "      <th>4</th>\n",
       "      <td>1</td>\n",
       "      <td>Q0</td>\n",
       "      <td>table-0552-511</td>\n",
       "      <td>0.666667</td>\n",
       "      <td>smarttable</td>\n",
       "    </tr>\n",
       "  </tbody>\n",
       "</table>\n",
       "</div>"
      ],
      "text/plain": [
       "   0   1               2         4           5\n",
       "0  1  Q0  table-0875-680  0.000000  smarttable\n",
       "1  1  Q0  table-0037-411  0.000000  smarttable\n",
       "2  1  Q0  table-0216-976  0.000000  smarttable\n",
       "3  1  Q0  table-0389-400  0.000000  smarttable\n",
       "4  1  Q0  table-0552-511  0.666667  smarttable"
      ]
     },
     "execution_count": 66,
     "metadata": {},
     "output_type": "execute_result"
    }
   ],
   "source": [
    "d.head()"
   ]
  },
  {
   "cell_type": "code",
   "execution_count": 67,
   "metadata": {},
   "outputs": [],
   "source": [
    "d_sorted = d.sort_values(by=[0,4], ascending=[True,False])"
   ]
  },
  {
   "cell_type": "code",
   "execution_count": 68,
   "metadata": {},
   "outputs": [],
   "source": [
    "d_s_f = pd.DataFrame()\n",
    "for i in range(1,61):\n",
    "    d_s_f = pd.concat([d_s_f, d_sorted[d_sorted[0] == i].iloc[:20]])"
   ]
  },
  {
   "cell_type": "code",
   "execution_count": 69,
   "metadata": {},
   "outputs": [],
   "source": [
    "l = []\n",
    "for i in range(60):\n",
    "    for j in range(1,21):\n",
    "        l.append(j)\n",
    "d_s_f[3] = l"
   ]
  },
  {
   "cell_type": "code",
   "execution_count": 70,
   "metadata": {},
   "outputs": [],
   "source": [
    "d_s_f = d_s_f[list(range(6))]"
   ]
  },
  {
   "cell_type": "code",
   "execution_count": 71,
   "metadata": {},
   "outputs": [
    {
     "data": {
      "text/html": [
       "<div>\n",
       "<style scoped>\n",
       "    .dataframe tbody tr th:only-of-type {\n",
       "        vertical-align: middle;\n",
       "    }\n",
       "\n",
       "    .dataframe tbody tr th {\n",
       "        vertical-align: top;\n",
       "    }\n",
       "\n",
       "    .dataframe thead th {\n",
       "        text-align: right;\n",
       "    }\n",
       "</style>\n",
       "<table border=\"1\" class=\"dataframe\">\n",
       "  <thead>\n",
       "    <tr style=\"text-align: right;\">\n",
       "      <th></th>\n",
       "      <th>0</th>\n",
       "      <th>1</th>\n",
       "      <th>2</th>\n",
       "      <th>3</th>\n",
       "      <th>4</th>\n",
       "      <th>5</th>\n",
       "    </tr>\n",
       "  </thead>\n",
       "  <tbody>\n",
       "    <tr>\n",
       "      <th>0</th>\n",
       "      <td>1</td>\n",
       "      <td>Q0</td>\n",
       "      <td>table-0255-236</td>\n",
       "      <td>1</td>\n",
       "      <td>1.0</td>\n",
       "      <td>smarttable</td>\n",
       "    </tr>\n",
       "    <tr>\n",
       "      <th>1</th>\n",
       "      <td>1</td>\n",
       "      <td>Q0</td>\n",
       "      <td>table-1042-895</td>\n",
       "      <td>2</td>\n",
       "      <td>1.0</td>\n",
       "      <td>smarttable</td>\n",
       "    </tr>\n",
       "    <tr>\n",
       "      <th>5</th>\n",
       "      <td>1</td>\n",
       "      <td>Q0</td>\n",
       "      <td>table-0554-923</td>\n",
       "      <td>3</td>\n",
       "      <td>1.0</td>\n",
       "      <td>smarttable</td>\n",
       "    </tr>\n",
       "    <tr>\n",
       "      <th>15</th>\n",
       "      <td>1</td>\n",
       "      <td>Q0</td>\n",
       "      <td>table-0914-103</td>\n",
       "      <td>4</td>\n",
       "      <td>1.0</td>\n",
       "      <td>smarttable</td>\n",
       "    </tr>\n",
       "    <tr>\n",
       "      <th>3</th>\n",
       "      <td>1</td>\n",
       "      <td>Q0</td>\n",
       "      <td>table-0370-614</td>\n",
       "      <td>5</td>\n",
       "      <td>1.0</td>\n",
       "      <td>smarttable</td>\n",
       "    </tr>\n",
       "  </tbody>\n",
       "</table>\n",
       "</div>"
      ],
      "text/plain": [
       "    0   1               2  3    4           5\n",
       "0   1  Q0  table-0255-236  1  1.0  smarttable\n",
       "1   1  Q0  table-1042-895  2  1.0  smarttable\n",
       "5   1  Q0  table-0554-923  3  1.0  smarttable\n",
       "15  1  Q0  table-0914-103  4  1.0  smarttable\n",
       "3   1  Q0  table-0370-614  5  1.0  smarttable"
      ]
     },
     "execution_count": 71,
     "metadata": {},
     "output_type": "execute_result"
    }
   ],
   "source": [
    "d_s_f.head()"
   ]
  },
  {
   "cell_type": "code",
   "execution_count": 72,
   "metadata": {},
   "outputs": [],
   "source": [
    "d_s_f.to_csv('./Results/LTR_k5_3_total.txt'.format(i), sep=' ', index=False, header=False)"
   ]
  },
  {
   "cell_type": "code",
   "execution_count": 73,
   "metadata": {},
   "outputs": [
    {
     "name": "stdout",
     "output_type": "stream",
     "text": [
      "ndcg_cut_5            \tall\t0.5223\r\n",
      "ndcg_cut_10           \tall\t0.5422\r\n",
      "ndcg_cut_15           \tall\t0.5711\r\n",
      "ndcg_cut_20           \tall\t0.5915\r\n"
     ]
    }
   ],
   "source": [
    "!./trec_eval/trec_eval -m ndcg_cut.5,10,15,20 ./Results/qrels.txt ./Results/LTR_k5_3_total.txt"
   ]
  },
  {
   "cell_type": "code",
   "execution_count": null,
   "metadata": {},
   "outputs": [],
   "source": []
  },
  {
   "cell_type": "code",
   "execution_count": null,
   "metadata": {},
   "outputs": [],
   "source": []
  },
  {
   "cell_type": "code",
   "execution_count": null,
   "metadata": {},
   "outputs": [],
   "source": []
  }
 ],
 "metadata": {
  "kernelspec": {
   "display_name": "Python 3",
   "language": "python",
   "name": "python3"
  },
  "language_info": {
   "codemirror_mode": {
    "name": "ipython",
    "version": 3
   },
   "file_extension": ".py",
   "mimetype": "text/x-python",
   "name": "python",
   "nbconvert_exporter": "python",
   "pygments_lexer": "ipython3",
   "version": "3.5.2"
  }
 },
 "nbformat": 4,
 "nbformat_minor": 2
}
