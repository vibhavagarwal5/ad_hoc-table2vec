{
 "cells": [
  {
   "cell_type": "code",
   "execution_count": 1,
   "metadata": {},
   "outputs": [],
   "source": [
    "%load_ext autoreload\n",
    "%autoreload 2"
   ]
  },
  {
   "cell_type": "code",
   "execution_count": 2,
   "metadata": {},
   "outputs": [],
   "source": [
    "import pandas as pd\n",
    "import tensorflow as tf\n",
    "import numpy as np\n",
    "import gensim\n",
    "import gensim.models.keyedvectors as word2vec\n",
    "from sklearn.metrics.pairwise import cosine_similarity\n",
    "import pickle\n",
    "from pandarallel import pandarallel"
   ]
  },
  {
   "cell_type": "code",
   "execution_count": 3,
   "metadata": {},
   "outputs": [],
   "source": [
    "from parse_data import parseData"
   ]
  },
  {
   "cell_type": "code",
   "execution_count": 4,
   "metadata": {},
   "outputs": [
    {
     "name": "stdout",
     "output_type": "stream",
     "text": [
      "WARNING: Progress bar is an experimental feature. This can lead to a considerable performance loss.\n"
     ]
    },
    {
     "data": {
      "application/vnd.jupyter.widget-view+json": {
       "model_id": "83e56e2767394632ab1373280e37b7f0",
       "version_major": 2,
       "version_minor": 0
      },
      "text/plain": [
       "HBox(children=(IntProgress(value=1, bar_style='info', max=1), HTML(value='')))"
      ]
     },
     "metadata": {},
     "output_type": "display_data"
    },
    {
     "name": "stdout",
     "output_type": "stream",
     "text": [
      "\n",
      "New pandarallel memory created - Size: 2500 MB\n",
      "Pandarallel will run on 15 workers\n"
     ]
    }
   ],
   "source": [
    "pandarallel.initialize(progress_bar=True,nb_workers=15,shm_size_mb=2500)"
   ]
  },
  {
   "cell_type": "code",
   "execution_count": 5,
   "metadata": {},
   "outputs": [],
   "source": [
    "pd.set_option('display.max_columns', 500)\n",
    "pd.set_option('display.width', 1000)"
   ]
  },
  {
   "cell_type": "code",
   "execution_count": null,
   "metadata": {},
   "outputs": [],
   "source": [
    "baseline_f = pd.read_csv('./www2018-table/feature/features.csv')"
   ]
  },
  {
   "cell_type": "code",
   "execution_count": 6,
   "metadata": {},
   "outputs": [
    {
     "name": "stderr",
     "output_type": "stream",
     "text": [
      "/home/vibhav/bar/virtualenv/lib/python3.5/site-packages/smart_open/smart_open_lib.py:398: UserWarning: This function is deprecated, use smart_open.open instead. See the migration notes for details: https://github.com/RaRe-Technologies/smart_open/blob/master/README.rst#migrating-to-the-new-open-function\n",
      "  'See the migration notes for details: %s' % _MIGRATION_NOTES_URL\n"
     ]
    }
   ],
   "source": [
    "w2v_gn_model = word2vec.KeyedVectors.load_word2vec_format(\"./GoogleNews-vectors-negative300.bin\", binary=True)  "
   ]
  },
  {
   "cell_type": "code",
   "execution_count": null,
   "metadata": {},
   "outputs": [],
   "source": [
    "# w2v_gn_model.similarity('computer','ram')"
   ]
  },
  {
   "cell_type": "code",
   "execution_count": null,
   "metadata": {
    "scrolled": true
   },
   "outputs": [],
   "source": [
    "# w2v_gn_model.get_vector('computer')"
   ]
  },
  {
   "cell_type": "code",
   "execution_count": 7,
   "metadata": {},
   "outputs": [
    {
     "name": "stderr",
     "output_type": "stream",
     "text": [
      "/home/vibhav/bar/virtualenv/lib/python3.5/site-packages/smart_open/smart_open_lib.py:398: UserWarning: This function is deprecated, use smart_open.open instead. See the migration notes for details: https://github.com/RaRe-Technologies/smart_open/blob/master/README.rst#migrating-to-the-new-open-function\n",
      "  'See the migration notes for details: %s' % _MIGRATION_NOTES_URL\n",
      "/home/vibhav/bar/virtualenv/lib/python3.5/site-packages/smart_open/smart_open_lib.py:398: UserWarning: This function is deprecated, use smart_open.open instead. See the migration notes for details: https://github.com/RaRe-Technologies/smart_open/blob/master/README.rst#migrating-to-the-new-open-function\n",
      "  'See the migration notes for details: %s' % _MIGRATION_NOTES_URL\n"
     ]
    }
   ],
   "source": [
    "rdv2vec_model = gensim.models.Word2Vec.load('./DB2Vec_sg_200_5_5_15_2_500')"
   ]
  },
  {
   "cell_type": "code",
   "execution_count": null,
   "metadata": {},
   "outputs": [],
   "source": [
    "# rdv2vec_model.wv.similarity('dbr:England','dbr:United_Kingdom')"
   ]
  },
  {
   "cell_type": "code",
   "execution_count": null,
   "metadata": {
    "scrolled": true
   },
   "outputs": [],
   "source": [
    "rdv2vec_model.wv['dbr:SNCF_TGV_Atlantique']"
   ]
  },
  {
   "cell_type": "code",
   "execution_count": null,
   "metadata": {},
   "outputs": [],
   "source": [
    "tables_path = '/home/vibhav/table2vec/tables_redi2_1/'\n",
    "\n",
    "def get_table_path(table_id):\n",
    "    return tables_path + 're_tables-' + table_id.split('-')[1] + '.json'"
   ]
  },
  {
   "cell_type": "code",
   "execution_count": null,
   "metadata": {},
   "outputs": [],
   "source": [
    "baseline_f['table_path'] = baseline_f.table_id.parallel_apply(get_table_path)"
   ]
  },
  {
   "cell_type": "code",
   "execution_count": null,
   "metadata": {},
   "outputs": [],
   "source": [
    "baseline_f['parsedTable'] = baseline_f.parallel_apply(lambda x: parseData(x['table_path'],x['table_id']).split(' '),axis=1)"
   ]
  },
  {
   "cell_type": "code",
   "execution_count": 8,
   "metadata": {},
   "outputs": [],
   "source": [
    "def get_w2v_embd(sentence):\n",
    "    embd = []\n",
    "    for word in sentence:\n",
    "        try:\n",
    "            embd.append(w2v_gn_model.get_vector(word))\n",
    "        except Exception as e:\n",
    "            embd.append(w2v_gn_model.get_vector('UNK'))\n",
    "    embd = np.array(embd)\n",
    "    return embd"
   ]
  },
  {
   "cell_type": "code",
   "execution_count": null,
   "metadata": {},
   "outputs": [],
   "source": [
    "baseline_f['w2v_embd_table'] = baseline_f.parsedTable.parallel_apply(get_w2v_embd)"
   ]
  },
  {
   "cell_type": "code",
   "execution_count": null,
   "metadata": {},
   "outputs": [],
   "source": [
    "baseline_f.head()"
   ]
  },
  {
   "cell_type": "code",
   "execution_count": null,
   "metadata": {},
   "outputs": [],
   "source": [
    "semantic_f = baseline_f.loc[:,['query_id','query','table_path','table_id','parsedTable','rel']]\n",
    "baseline_f.drop(columns=['table_path','parsedTable'],inplace=True)"
   ]
  },
  {
   "cell_type": "code",
   "execution_count": null,
   "metadata": {},
   "outputs": [],
   "source": [
    "semantic_f['w2v_embd_query'] = semantic_f['query'].parallel_apply(lambda x: get_w2v_embd(x.split(\" \")))"
   ]
  },
  {
   "cell_type": "code",
   "execution_count": 9,
   "metadata": {},
   "outputs": [],
   "source": [
    "def early_fusion(table,query):\n",
    "    a = np.average(table,axis=0).reshape(1,-1)\n",
    "    b = np.average(query,axis=0).reshape(1,-1)\n",
    "    sim = cosine_similarity(a,b)\n",
    "    return sim.reshape(-1)[0]"
   ]
  },
  {
   "cell_type": "code",
   "execution_count": null,
   "metadata": {},
   "outputs": [],
   "source": [
    "semantic_f['w2v_early_fusion'] = semantic_f.apply(lambda x: early_fusion(x['w2v_embd_table'],x['w2v_embd_query']),axis=1)"
   ]
  },
  {
   "cell_type": "code",
   "execution_count": null,
   "metadata": {},
   "outputs": [],
   "source": [
    "# semantic_f[semantic_f.w2v_early_fusion < 0.3].rel.value_counts()\n",
    "# semantic_f[semantic_f.w2v_late_fusion_avg < 0.3].shape"
   ]
  },
  {
   "cell_type": "code",
   "execution_count": 10,
   "metadata": {},
   "outputs": [],
   "source": [
    "def late_fusion(table,query):\n",
    "    s = []\n",
    "    for i in query:\n",
    "        for j in table:\n",
    "            sim = cosine_similarity(i.reshape(1,-1),j.reshape(1,-1))\n",
    "            s.append(sim)\n",
    "    s = np.array(s).reshape(-1)\n",
    "    return s"
   ]
  },
  {
   "cell_type": "code",
   "execution_count": null,
   "metadata": {},
   "outputs": [],
   "source": [
    "semantic_f['w2v_late_fusion'] = semantic_f.parallel_apply(lambda x: late_fusion(x['w2v_embd_table'],x['w2v_embd_query']),axis=1)"
   ]
  },
  {
   "cell_type": "code",
   "execution_count": null,
   "metadata": {},
   "outputs": [],
   "source": [
    "semantic_f['w2v_late_fusion_max'] = semantic_f.w2v_late_fusion.parallel_apply(np.max)\n",
    "semantic_f['w2v_late_fusion_avg'] = semantic_f.w2v_late_fusion.parallel_apply(np.average)\n",
    "semantic_f['w2v_late_fusion_sum'] = semantic_f.w2v_late_fusion.parallel_apply(np.sum)"
   ]
  },
  {
   "cell_type": "code",
   "execution_count": null,
   "metadata": {},
   "outputs": [],
   "source": [
    "semantic_f.head()"
   ]
  },
  {
   "cell_type": "code",
   "execution_count": null,
   "metadata": {},
   "outputs": [],
   "source": [
    "from get_entities import getEntities"
   ]
  },
  {
   "cell_type": "code",
   "execution_count": null,
   "metadata": {},
   "outputs": [],
   "source": [
    "query_entities = {}\n",
    "for i in semantic_f['query'].unique():\n",
    "    query_entities[i] = getEntities(i)\n",
    "\n",
    "semantic_f['query_entites'] = semantic_f['query'].apply(lambda x: query_entities[x])"
   ]
  },
  {
   "cell_type": "code",
   "execution_count": null,
   "metadata": {},
   "outputs": [],
   "source": [
    "semantic_f.query_entites.iloc[1]"
   ]
  },
  {
   "cell_type": "code",
   "execution_count": null,
   "metadata": {},
   "outputs": [],
   "source": [
    "df_1 = pd.read_csv('./semantic_f_w2v_entities_1.csv')\n",
    "df_2 = pd.read_csv('./semantic_f_w2v_entities_2.csv')\n",
    "df_3 = pd.read_csv('./semantic_f_w2v_entities_3.csv')\n",
    "df_4 = pd.read_csv('./semantic_f_w2v_entities_4.csv')"
   ]
  },
  {
   "cell_type": "code",
   "execution_count": null,
   "metadata": {},
   "outputs": [],
   "source": [
    "df = pd.concat([df_1,df_2,df_3,df_4])"
   ]
  },
  {
   "cell_type": "code",
   "execution_count": null,
   "metadata": {},
   "outputs": [],
   "source": [
    "import ast\n",
    "df['table_entities'] = df.table_entities.apply(lambda x: ast.literal_eval(x))"
   ]
  },
  {
   "cell_type": "code",
   "execution_count": 11,
   "metadata": {},
   "outputs": [],
   "source": [
    "def get_g2v_embd(entities):\n",
    "    embd = []\n",
    "    for en in entities:\n",
    "        word = 'dbr:' + en\n",
    "        try:\n",
    "            embd.append(rdv2vec_model.wv[word])\n",
    "        except Exception as e:\n",
    "            embd.append(rdv2vec_model.wv['dbr:UNK'])\n",
    "    return np.array(embd)"
   ]
  },
  {
   "cell_type": "code",
   "execution_count": null,
   "metadata": {},
   "outputs": [],
   "source": [
    "df['g2v_embd_table'] = df.table_entities.apply(get_g2v_embd)\n",
    "\n",
    "df['g2v_embd_query'] = df.query_entites.apply(get_g2v_embd)"
   ]
  },
  {
   "cell_type": "code",
   "execution_count": null,
   "metadata": {},
   "outputs": [],
   "source": [
    "df['g2v_early_fusion'] = df.apply(lambda x: early_fusion(x['g2v_embd_table'],x['g2v_embd_query']),axis=1)"
   ]
  },
  {
   "cell_type": "code",
   "execution_count": null,
   "metadata": {
    "jupyter": {
     "outputs_hidden": true
    }
   },
   "outputs": [],
   "source": [
    "df['g2v_late_fusion'] = df.parallel_apply(lambda x: late_fusion(x['g2v_embd_table'],x['g2v_embd_query']),axis=1)"
   ]
  },
  {
   "cell_type": "code",
   "execution_count": null,
   "metadata": {},
   "outputs": [],
   "source": [
    "df['g2v_late_fusion_max'] = df.g2v_late_fusion.apply(np.max)\n",
    "df['g2v_late_fusion_avg'] = df.g2v_late_fusion.apply(np.average)\n",
    "df['g2v_late_fusion_sum'] = df.g2v_late_fusion.apply(np.sum)"
   ]
  },
  {
   "cell_type": "code",
   "execution_count": null,
   "metadata": {},
   "outputs": [],
   "source": [
    "df.head()"
   ]
  },
  {
   "cell_type": "code",
   "execution_count": null,
   "metadata": {},
   "outputs": [],
   "source": [
    "df.to_csv('./semantic_f_w2v_g2v.csv',index=False)"
   ]
  },
  {
   "cell_type": "markdown",
   "metadata": {},
   "source": [
    "# Testing with new filtered entities"
   ]
  },
  {
   "cell_type": "code",
   "execution_count": 30,
   "metadata": {},
   "outputs": [],
   "source": [
    "df = pd.read_csv('./semantic_f_w2v_g2v_upd_boe.csv')"
   ]
  },
  {
   "cell_type": "code",
   "execution_count": 37,
   "metadata": {},
   "outputs": [
    {
     "data": {
      "text/html": [
       "<div>\n",
       "<style scoped>\n",
       "    .dataframe tbody tr th:only-of-type {\n",
       "        vertical-align: middle;\n",
       "    }\n",
       "\n",
       "    .dataframe tbody tr th {\n",
       "        vertical-align: top;\n",
       "    }\n",
       "\n",
       "    .dataframe thead th {\n",
       "        text-align: right;\n",
       "    }\n",
       "</style>\n",
       "<table border=\"1\" class=\"dataframe\">\n",
       "  <thead>\n",
       "    <tr style=\"text-align: right;\">\n",
       "      <th></th>\n",
       "      <th>query_id</th>\n",
       "      <th>query</th>\n",
       "      <th>table_path</th>\n",
       "      <th>table_id</th>\n",
       "      <th>parsedTable</th>\n",
       "      <th>rel</th>\n",
       "      <th>w2v_early_fusion</th>\n",
       "      <th>w2v_late_fusion</th>\n",
       "      <th>w2v_late_fusion_max</th>\n",
       "      <th>w2v_late_fusion_avg</th>\n",
       "      <th>w2v_late_fusion_sum</th>\n",
       "      <th>query_entites</th>\n",
       "      <th>query_entities_lst</th>\n",
       "      <th>table_entities</th>\n",
       "      <th>table_entities_filter</th>\n",
       "      <th>g2v_early_fusion</th>\n",
       "      <th>g2v_late_fusion</th>\n",
       "      <th>g2v_late_fusion_max</th>\n",
       "      <th>g2v_late_fusion_avg</th>\n",
       "      <th>g2v_late_fusion_sum</th>\n",
       "      <th>boe_early_fusion</th>\n",
       "      <th>boe_late_fusion</th>\n",
       "      <th>boe_late_fusion_max</th>\n",
       "      <th>boe_late_fusion_avg</th>\n",
       "      <th>boe_late_fusion_sum</th>\n",
       "      <th>g2v_embd_table</th>\n",
       "      <th>g2v_embd_query</th>\n",
       "    </tr>\n",
       "  </thead>\n",
       "  <tbody>\n",
       "    <tr>\n",
       "      <th>0</th>\n",
       "      <td>1</td>\n",
       "      <td>world interest rates Table</td>\n",
       "      <td>/home/vibhav/table2vec/tables_redi2_1/re_table...</td>\n",
       "      <td>table-0875-680</td>\n",
       "      <td>['experian', 'score', 'expected', 'annual', 'l...</td>\n",
       "      <td>0</td>\n",
       "      <td>0.572375</td>\n",
       "      <td>[ 0.07764402  0.04398614  0.062119    0.131361...</td>\n",
       "      <td>1.0</td>\n",
       "      <td>0.132950</td>\n",
       "      <td>18.081264</td>\n",
       "      <td>{'3': {'entity': '&lt;dbpedia:Permanent_interest_...</td>\n",
       "      <td>[Rate_risk, Inflation_targeting, Overnight_pol...</td>\n",
       "      <td>['Cash_advance', 'Subprime_lending', 'Credit_c...</td>\n",
       "      <td>[Cash_advance, Subprime_lending, Credit_card_b...</td>\n",
       "      <td>0.931634</td>\n",
       "      <td>[0.9544216, 0.7464475, 0.9754204, 0.91376805, ...</td>\n",
       "      <td>0.976379</td>\n",
       "      <td>0.753584</td>\n",
       "      <td>165.788513</td>\n",
       "      <td>0.000000</td>\n",
       "      <td>[0. 0. 0. 0. 0. 0. 0. 0. 0. 0. 0. 0. 0. 0. 0. ...</td>\n",
       "      <td>0.0</td>\n",
       "      <td>0.000000</td>\n",
       "      <td>0.0</td>\n",
       "      <td>[[-0.105519615, 0.16365984, -0.10385874, -0.01...</td>\n",
       "      <td>[[-0.14873455, 0.1397283, -0.13643967, -0.0689...</td>\n",
       "    </tr>\n",
       "    <tr>\n",
       "      <th>1</th>\n",
       "      <td>1</td>\n",
       "      <td>world interest rates Table</td>\n",
       "      <td>/home/vibhav/table2vec/tables_redi2_1/re_table...</td>\n",
       "      <td>table-1020-619</td>\n",
       "      <td>['annual', 'inflation', 'rates', 'aug', 'sep',...</td>\n",
       "      <td>0</td>\n",
       "      <td>0.681248</td>\n",
       "      <td>[ 0.13136129  0.06132873  0.00324154  0.019790...</td>\n",
       "      <td>1.0</td>\n",
       "      <td>0.160487</td>\n",
       "      <td>10.271143</td>\n",
       "      <td>{'3': {'entity': '&lt;dbpedia:Permanent_interest_...</td>\n",
       "      <td>[Rate_risk, Inflation_targeting, Overnight_pol...</td>\n",
       "      <td>['Ultra-Tories', 'Zero_interest-rate_policy', ...</td>\n",
       "      <td>[Ultra-Tories, Zero_interest-rate_policy, Inte...</td>\n",
       "      <td>0.948629</td>\n",
       "      <td>[0.59270334, 0.88259375, 0.8775268, 0.82495767...</td>\n",
       "      <td>1.000000</td>\n",
       "      <td>0.702878</td>\n",
       "      <td>161.661957</td>\n",
       "      <td>0.065938</td>\n",
       "      <td>[0. 0. 0. 0. 0. 0. 0. 0. 0. 0. 0. 0. 0. 0. 0. ...</td>\n",
       "      <td>1.0</td>\n",
       "      <td>0.004348</td>\n",
       "      <td>1.0</td>\n",
       "      <td>[[-0.5667573, 0.059294734, -0.35778925, 0.0050...</td>\n",
       "      <td>[[-0.14873455, 0.1397283, -0.13643967, -0.0689...</td>\n",
       "    </tr>\n",
       "    <tr>\n",
       "      <th>2</th>\n",
       "      <td>1</td>\n",
       "      <td>world interest rates Table</td>\n",
       "      <td>/home/vibhav/table2vec/tables_redi2_1/re_table...</td>\n",
       "      <td>table-0288-531</td>\n",
       "      <td>['regret', 'interest', 'rates', 'rise', 'stati...</td>\n",
       "      <td>0</td>\n",
       "      <td>0.606677</td>\n",
       "      <td>[ 0.09074079  0.07134737  0.00324154  0.122679...</td>\n",
       "      <td>1.0</td>\n",
       "      <td>0.145743</td>\n",
       "      <td>12.825369</td>\n",
       "      <td>{'3': {'entity': '&lt;dbpedia:Permanent_interest_...</td>\n",
       "      <td>[Rate_risk, Inflation_targeting, Overnight_pol...</td>\n",
       "      <td>['Expected_utility_hypothesis', 'Loss_function...</td>\n",
       "      <td>[Expected_utility_hypothesis, Loss_function, V...</td>\n",
       "      <td>0.890927</td>\n",
       "      <td>[0.6577677, 0.6136566, 0.8812906, 0.7719419, 0...</td>\n",
       "      <td>0.938203</td>\n",
       "      <td>0.635920</td>\n",
       "      <td>127.184067</td>\n",
       "      <td>0.000000</td>\n",
       "      <td>[0. 0. 0. 0. 0. 0. 0. 0. 0. 0. 0. 0. 0. 0. 0. ...</td>\n",
       "      <td>0.0</td>\n",
       "      <td>0.000000</td>\n",
       "      <td>0.0</td>\n",
       "      <td>[[-0.01618436, 0.36752364, -0.41611332, -0.236...</td>\n",
       "      <td>[[-0.14873455, 0.1397283, -0.13643967, -0.0689...</td>\n",
       "    </tr>\n",
       "    <tr>\n",
       "      <th>3</th>\n",
       "      <td>1</td>\n",
       "      <td>world interest rates Table</td>\n",
       "      <td>/home/vibhav/table2vec/tables_redi2_1/re_table...</td>\n",
       "      <td>table-0288-530</td>\n",
       "      <td>['return', 'interest', 'rates', 'rise', 'stati...</td>\n",
       "      <td>0</td>\n",
       "      <td>0.617735</td>\n",
       "      <td>[ 0.0134912   0.07134737  0.00324154  0.122679...</td>\n",
       "      <td>1.0</td>\n",
       "      <td>0.140305</td>\n",
       "      <td>13.469313</td>\n",
       "      <td>{'3': {'entity': '&lt;dbpedia:Permanent_interest_...</td>\n",
       "      <td>[Rate_risk, Inflation_targeting, Overnight_pol...</td>\n",
       "      <td>['Allan_Saint-Maximin', 'Maximin_Coia', 'Saint...</td>\n",
       "      <td>[Allan_Saint-Maximin, Maximin_Coia, Saint-Maxi...</td>\n",
       "      <td>0.905172</td>\n",
       "      <td>[0.5995204, 0.42961165, 0.53440076, 0.6587129,...</td>\n",
       "      <td>0.940689</td>\n",
       "      <td>0.638138</td>\n",
       "      <td>134.009064</td>\n",
       "      <td>0.000000</td>\n",
       "      <td>[0. 0. 0. 0. 0. 0. 0. 0. 0. 0. 0. 0. 0. 0. 0. ...</td>\n",
       "      <td>0.0</td>\n",
       "      <td>0.000000</td>\n",
       "      <td>0.0</td>\n",
       "      <td>[[-0.28710952, 0.19961576, -0.22583863, 0.0329...</td>\n",
       "      <td>[[-0.14873455, 0.1397283, -0.13643967, -0.0689...</td>\n",
       "    </tr>\n",
       "    <tr>\n",
       "      <th>4</th>\n",
       "      <td>1</td>\n",
       "      <td>world interest rates Table</td>\n",
       "      <td>/home/vibhav/table2vec/tables_redi2_1/re_table...</td>\n",
       "      <td>table-1000-57</td>\n",
       "      <td>['security', 'nominal', 'interest', 'rates', '...</td>\n",
       "      <td>0</td>\n",
       "      <td>0.586386</td>\n",
       "      <td>[ 9.76208225e-02  4.97327670e-02  7.13473707e-...</td>\n",
       "      <td>1.0</td>\n",
       "      <td>0.139647</td>\n",
       "      <td>18.433437</td>\n",
       "      <td>{'3': {'entity': '&lt;dbpedia:Permanent_interest_...</td>\n",
       "      <td>[Rate_risk, Inflation_targeting, Overnight_pol...</td>\n",
       "      <td>['Quantitative_easing', 'Inflation_derivative'...</td>\n",
       "      <td>[Quantitative_easing, Inflation_derivative, El...</td>\n",
       "      <td>0.964024</td>\n",
       "      <td>[0.8005127, 0.95039994, 0.96435654, 0.8281962,...</td>\n",
       "      <td>1.000000</td>\n",
       "      <td>0.763481</td>\n",
       "      <td>145.061325</td>\n",
       "      <td>0.072548</td>\n",
       "      <td>[0. 0. 0. 0. 0. 0. 0. 0. 0. 0. 0. 0. 0. 0. 0. ...</td>\n",
       "      <td>1.0</td>\n",
       "      <td>0.005263</td>\n",
       "      <td>1.0</td>\n",
       "      <td>[[-0.08840087, 0.19392557, -0.24297218, -0.365...</td>\n",
       "      <td>[[-0.14873455, 0.1397283, -0.13643967, -0.0689...</td>\n",
       "    </tr>\n",
       "  </tbody>\n",
       "</table>\n",
       "</div>"
      ],
      "text/plain": [
       "   query_id                       query                                         table_path        table_id                                        parsedTable  rel  w2v_early_fusion                                    w2v_late_fusion  w2v_late_fusion_max  w2v_late_fusion_avg  w2v_late_fusion_sum                                      query_entites                                 query_entities_lst                                     table_entities                              table_entities_filter  g2v_early_fusion                                    g2v_late_fusion  g2v_late_fusion_max  g2v_late_fusion_avg  g2v_late_fusion_sum  boe_early_fusion                                    boe_late_fusion  boe_late_fusion_max  boe_late_fusion_avg  boe_late_fusion_sum                                     g2v_embd_table                                     g2v_embd_query\n",
       "0         1  world interest rates Table  /home/vibhav/table2vec/tables_redi2_1/re_table...  table-0875-680  ['experian', 'score', 'expected', 'annual', 'l...    0          0.572375  [ 0.07764402  0.04398614  0.062119    0.131361...                  1.0             0.132950            18.081264  {'3': {'entity': '<dbpedia:Permanent_interest_...  [Rate_risk, Inflation_targeting, Overnight_pol...  ['Cash_advance', 'Subprime_lending', 'Credit_c...  [Cash_advance, Subprime_lending, Credit_card_b...          0.931634  [0.9544216, 0.7464475, 0.9754204, 0.91376805, ...             0.976379             0.753584           165.788513          0.000000  [0. 0. 0. 0. 0. 0. 0. 0. 0. 0. 0. 0. 0. 0. 0. ...                  0.0             0.000000                  0.0  [[-0.105519615, 0.16365984, -0.10385874, -0.01...  [[-0.14873455, 0.1397283, -0.13643967, -0.0689...\n",
       "1         1  world interest rates Table  /home/vibhav/table2vec/tables_redi2_1/re_table...  table-1020-619  ['annual', 'inflation', 'rates', 'aug', 'sep',...    0          0.681248  [ 0.13136129  0.06132873  0.00324154  0.019790...                  1.0             0.160487            10.271143  {'3': {'entity': '<dbpedia:Permanent_interest_...  [Rate_risk, Inflation_targeting, Overnight_pol...  ['Ultra-Tories', 'Zero_interest-rate_policy', ...  [Ultra-Tories, Zero_interest-rate_policy, Inte...          0.948629  [0.59270334, 0.88259375, 0.8775268, 0.82495767...             1.000000             0.702878           161.661957          0.065938  [0. 0. 0. 0. 0. 0. 0. 0. 0. 0. 0. 0. 0. 0. 0. ...                  1.0             0.004348                  1.0  [[-0.5667573, 0.059294734, -0.35778925, 0.0050...  [[-0.14873455, 0.1397283, -0.13643967, -0.0689...\n",
       "2         1  world interest rates Table  /home/vibhav/table2vec/tables_redi2_1/re_table...  table-0288-531  ['regret', 'interest', 'rates', 'rise', 'stati...    0          0.606677  [ 0.09074079  0.07134737  0.00324154  0.122679...                  1.0             0.145743            12.825369  {'3': {'entity': '<dbpedia:Permanent_interest_...  [Rate_risk, Inflation_targeting, Overnight_pol...  ['Expected_utility_hypothesis', 'Loss_function...  [Expected_utility_hypothesis, Loss_function, V...          0.890927  [0.6577677, 0.6136566, 0.8812906, 0.7719419, 0...             0.938203             0.635920           127.184067          0.000000  [0. 0. 0. 0. 0. 0. 0. 0. 0. 0. 0. 0. 0. 0. 0. ...                  0.0             0.000000                  0.0  [[-0.01618436, 0.36752364, -0.41611332, -0.236...  [[-0.14873455, 0.1397283, -0.13643967, -0.0689...\n",
       "3         1  world interest rates Table  /home/vibhav/table2vec/tables_redi2_1/re_table...  table-0288-530  ['return', 'interest', 'rates', 'rise', 'stati...    0          0.617735  [ 0.0134912   0.07134737  0.00324154  0.122679...                  1.0             0.140305            13.469313  {'3': {'entity': '<dbpedia:Permanent_interest_...  [Rate_risk, Inflation_targeting, Overnight_pol...  ['Allan_Saint-Maximin', 'Maximin_Coia', 'Saint...  [Allan_Saint-Maximin, Maximin_Coia, Saint-Maxi...          0.905172  [0.5995204, 0.42961165, 0.53440076, 0.6587129,...             0.940689             0.638138           134.009064          0.000000  [0. 0. 0. 0. 0. 0. 0. 0. 0. 0. 0. 0. 0. 0. 0. ...                  0.0             0.000000                  0.0  [[-0.28710952, 0.19961576, -0.22583863, 0.0329...  [[-0.14873455, 0.1397283, -0.13643967, -0.0689...\n",
       "4         1  world interest rates Table  /home/vibhav/table2vec/tables_redi2_1/re_table...   table-1000-57  ['security', 'nominal', 'interest', 'rates', '...    0          0.586386  [ 9.76208225e-02  4.97327670e-02  7.13473707e-...                  1.0             0.139647            18.433437  {'3': {'entity': '<dbpedia:Permanent_interest_...  [Rate_risk, Inflation_targeting, Overnight_pol...  ['Quantitative_easing', 'Inflation_derivative'...  [Quantitative_easing, Inflation_derivative, El...          0.964024  [0.8005127, 0.95039994, 0.96435654, 0.8281962,...             1.000000             0.763481           145.061325          0.072548  [0. 0. 0. 0. 0. 0. 0. 0. 0. 0. 0. 0. 0. 0. 0. ...                  1.0             0.005263                  1.0  [[-0.08840087, 0.19392557, -0.24297218, -0.365...  [[-0.14873455, 0.1397283, -0.13643967, -0.0689..."
      ]
     },
     "execution_count": 37,
     "metadata": {},
     "output_type": "execute_result"
    }
   ],
   "source": [
    "df.head()"
   ]
  },
  {
   "cell_type": "code",
   "execution_count": 32,
   "metadata": {},
   "outputs": [],
   "source": [
    "df['table_entities_filter'] = df['table_entities_filter'].apply(eval)\n",
    "df['query_entities_lst'] = df['query_entities_lst'].apply(eval)"
   ]
  },
  {
   "cell_type": "code",
   "execution_count": 33,
   "metadata": {},
   "outputs": [],
   "source": [
    "df['g2v_embd_table'] = df.table_entities_filter.apply(get_g2v_embd)\n",
    "df['g2v_embd_query'] = df.query_entities_lst.apply(get_g2v_embd)"
   ]
  },
  {
   "cell_type": "code",
   "execution_count": 34,
   "metadata": {},
   "outputs": [],
   "source": [
    "df['g2v_early_fusion'] = df.apply(lambda x: early_fusion(x['g2v_embd_table'],x['g2v_embd_query']),axis=1)"
   ]
  },
  {
   "cell_type": "code",
   "execution_count": 35,
   "metadata": {},
   "outputs": [],
   "source": [
    "df['g2v_late_fusion'] = df.parallel_apply(lambda x: late_fusion(x['g2v_embd_table'],x['g2v_embd_query']),axis=1)"
   ]
  },
  {
   "cell_type": "code",
   "execution_count": 36,
   "metadata": {},
   "outputs": [],
   "source": [
    "df['g2v_late_fusion_max'] = df.g2v_late_fusion.apply(np.max)\n",
    "df['g2v_late_fusion_avg'] = df.g2v_late_fusion.apply(np.average)\n",
    "df['g2v_late_fusion_sum'] = df.g2v_late_fusion.apply(np.sum)"
   ]
  },
  {
   "cell_type": "code",
   "execution_count": 41,
   "metadata": {},
   "outputs": [],
   "source": [
    "df.to_csv('./semantic_f_w2v_g2v_upd_boe_updg2v.csv',index=False)"
   ]
  },
  {
   "cell_type": "code",
   "execution_count": null,
   "metadata": {},
   "outputs": [],
   "source": []
  }
 ],
 "metadata": {
  "kernelspec": {
   "display_name": "Python 3",
   "language": "python",
   "name": "python3"
  },
  "language_info": {
   "codemirror_mode": {
    "name": "ipython",
    "version": 3
   },
   "file_extension": ".py",
   "mimetype": "text/x-python",
   "name": "python",
   "nbconvert_exporter": "python",
   "pygments_lexer": "ipython3",
   "version": "3.5.2"
  }
 },
 "nbformat": 4,
 "nbformat_minor": 4
}
